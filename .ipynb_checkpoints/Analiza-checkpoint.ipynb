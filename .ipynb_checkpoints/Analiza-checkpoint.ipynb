{
 "cells": [
  {
   "cell_type": "code",
   "execution_count": 104,
   "id": "3c3e87c0",
   "metadata": {},
   "outputs": [
    {
     "name": "stdout",
     "output_type": "stream",
     "text": [
      "(2044810, 8)\n",
      "(4873690, 6)\n",
      "(6918500, 3)\n"
     ]
    },
    {
     "data": {
      "text/html": [
       "<div>\n",
       "<style scoped>\n",
       "    .dataframe tbody tr th:only-of-type {\n",
       "        vertical-align: middle;\n",
       "    }\n",
       "\n",
       "    .dataframe tbody tr th {\n",
       "        vertical-align: top;\n",
       "    }\n",
       "\n",
       "    .dataframe thead th {\n",
       "        text-align: right;\n",
       "    }\n",
       "</style>\n",
       "<table border=\"1\" class=\"dataframe\">\n",
       "  <thead>\n",
       "    <tr style=\"text-align: right;\">\n",
       "      <th></th>\n",
       "      <th>author</th>\n",
       "      <th>subreddit_id</th>\n",
       "      <th>subreddit</th>\n",
       "    </tr>\n",
       "  </thead>\n",
       "  <tbody>\n",
       "    <tr>\n",
       "      <th>0</th>\n",
       "      <td>Haven</td>\n",
       "      <td>t5_6</td>\n",
       "      <td>reddit.com</td>\n",
       "    </tr>\n",
       "    <tr>\n",
       "      <th>1</th>\n",
       "      <td>lilmiss2</td>\n",
       "      <td>t5_6</td>\n",
       "      <td>reddit.com</td>\n",
       "    </tr>\n",
       "    <tr>\n",
       "      <th>2</th>\n",
       "      <td>EverybodysAnAsshole</td>\n",
       "      <td>t5_6</td>\n",
       "      <td>reddit.com</td>\n",
       "    </tr>\n",
       "    <tr>\n",
       "      <th>3</th>\n",
       "      <td>generalk</td>\n",
       "      <td>t5_2fwo</td>\n",
       "      <td>programming</td>\n",
       "    </tr>\n",
       "    <tr>\n",
       "      <th>4</th>\n",
       "      <td>seeker135</td>\n",
       "      <td>t5_2cneq</td>\n",
       "      <td>politics</td>\n",
       "    </tr>\n",
       "    <tr>\n",
       "      <th>...</th>\n",
       "      <td>...</td>\n",
       "      <td>...</td>\n",
       "      <td>...</td>\n",
       "    </tr>\n",
       "    <tr>\n",
       "      <th>6918495</th>\n",
       "      <td>themightymidget</td>\n",
       "      <td>t5_2qh33</td>\n",
       "      <td>funny</td>\n",
       "    </tr>\n",
       "    <tr>\n",
       "      <th>6918496</th>\n",
       "      <td>Tom22</td>\n",
       "      <td>t5_2qh3l</td>\n",
       "      <td>news</td>\n",
       "    </tr>\n",
       "    <tr>\n",
       "      <th>6918497</th>\n",
       "      <td>bixiebix</td>\n",
       "      <td>t5_6</td>\n",
       "      <td>reddit.com</td>\n",
       "    </tr>\n",
       "    <tr>\n",
       "      <th>6918498</th>\n",
       "      <td>middkidd</td>\n",
       "      <td>t5_2cneq</td>\n",
       "      <td>politics</td>\n",
       "    </tr>\n",
       "    <tr>\n",
       "      <th>6918499</th>\n",
       "      <td>klippa</td>\n",
       "      <td>t5_6</td>\n",
       "      <td>reddit.com</td>\n",
       "    </tr>\n",
       "  </tbody>\n",
       "</table>\n",
       "<p>6918500 rows × 3 columns</p>\n",
       "</div>"
      ],
      "text/plain": [
       "                      author subreddit_id    subreddit\n",
       "0                      Haven         t5_6   reddit.com\n",
       "1                   lilmiss2         t5_6   reddit.com\n",
       "2        EverybodysAnAsshole         t5_6   reddit.com\n",
       "3                   generalk      t5_2fwo  programming\n",
       "4                  seeker135     t5_2cneq     politics\n",
       "...                      ...          ...          ...\n",
       "6918495      themightymidget     t5_2qh33        funny\n",
       "6918496                Tom22     t5_2qh3l         news\n",
       "6918497             bixiebix         t5_6   reddit.com\n",
       "6918498             middkidd     t5_2cneq     politics\n",
       "6918499               klippa         t5_6   reddit.com\n",
       "\n",
       "[6918500 rows x 3 columns]"
      ]
     },
     "execution_count": 104,
     "metadata": {},
     "output_type": "execute_result"
    }
   ],
   "source": [
    "import networkx as nx\n",
    "import pickle\n",
    "import pandas as pd\n",
    "import numpy as np\n",
    "import matplotlib.pyplot as plt\n",
    "\n",
    "with open(\"data/cleaned/sub\", 'rb') as f:\n",
    "    sub = pickle.load(f)\n",
    "with open(\"data/cleaned/comm\", 'rb') as f:\n",
    "    comm = pickle.load(f)\n",
    "\n",
    "    \n",
    "data = pd.concat([comm[['author', 'subreddit_id', 'subreddit']], sub[['author', 'subreddit_id', 'subreddit']]], ignore_index=True)\n",
    "print(sub.shape)\n",
    "print(comm.shape)\n",
    "print(data.shape)\n",
    "data\n"
   ]
  },
  {
   "cell_type": "markdown",
   "id": "651d9583",
   "metadata": {},
   "source": [
    "###  1.2) Broj korisnika\n",
    "\n",
    "\n",
    "\n"
   ]
  },
  {
   "cell_type": "code",
   "execution_count": 93,
   "id": "2fb41112",
   "metadata": {},
   "outputs": [
    {
     "name": "stdout",
     "output_type": "stream",
     "text": [
      "                            author\n",
      "subreddit_id subreddit            \n",
      "t5_6         reddit.com     163779\n",
      "t5_2cneq     politics        38374\n",
      "t5_2qh0u     pics            29753\n",
      "t5_2qh16     technology      28337\n",
      "t5_2qh33     funny           28186\n",
      "t5_2qh0f     entertainment   26360\n",
      "t5_mouw      science         25854\n",
      "t5_2fwo      programming     25819\n",
      "t5_2qgzg     business        25253\n",
      "t5_2qh13     worldnews       24937\n"
     ]
    }
   ],
   "source": [
    "data_g = data.groupby(['subreddit_id', 'subreddit']).nunique().sort_values(by= ['author'], ascending = False)\n",
    "print(data_g.head(10))"
   ]
  },
  {
   "cell_type": "markdown",
   "id": "ea191eaf",
   "metadata": {},
   "source": [
    "### 1.3) Broj Komentara"
   ]
  },
  {
   "cell_type": "code",
   "execution_count": 94,
   "id": "0fa673d1",
   "metadata": {},
   "outputs": [
    {
     "name": "stdout",
     "output_type": "stream",
     "text": [
      "                           counts\n",
      "subreddit   subreddit_id         \n",
      "reddit.com  t5_6          1143184\n",
      "politics    t5_2cneq       801396\n",
      "programming t5_2fwo        345997\n",
      "pics        t5_2qh0u       286192\n",
      "science     t5_mouw        238291\n",
      "worldnews   t5_2qh13       228793\n",
      "WTF         t5_2qh61       187876\n",
      "funny       t5_2qh33       175547\n",
      "technology  t5_2qh16       149803\n",
      "AskReddit   t5_2qh1i       139760\n"
     ]
    }
   ],
   "source": [
    "data_comm = comm\n",
    "data_comm\n",
    "data_comm_g = data_comm.groupby(['subreddit' , 'subreddit_id']).agg(counts=('id' , 'count')).nlargest(10, \"counts\")\n",
    "print(data_comm_g.head(10))\n",
    "\n"
   ]
  },
  {
   "cell_type": "markdown",
   "id": "5362e4a2",
   "metadata": {},
   "source": [
    "### 2 Prosecan broj korisnika"
   ]
  },
  {
   "cell_type": "code",
   "execution_count": null,
   "id": "e70092f5",
   "metadata": {},
   "outputs": [],
   "source": []
  },
  {
   "cell_type": "markdown",
   "id": "59b1e0a8",
   "metadata": {},
   "source": [
    "### 3 - Najveci broj objava"
   ]
  },
  {
   "cell_type": "code",
   "execution_count": 100,
   "id": "786679c6",
   "metadata": {},
   "outputs": [
    {
     "name": "stdout",
     "output_type": "stream",
     "text": [
      "Index(['id', 'url', 'permalink', 'author', 'created_utc', 'subreddit',\n",
      "       'subreddit_id', 'num_comments'],\n",
      "      dtype='object')\n"
     ]
    },
    {
     "data": {
      "text/html": [
       "<div>\n",
       "<style scoped>\n",
       "    .dataframe tbody tr th:only-of-type {\n",
       "        vertical-align: middle;\n",
       "    }\n",
       "\n",
       "    .dataframe tbody tr th {\n",
       "        vertical-align: top;\n",
       "    }\n",
       "\n",
       "    .dataframe thead th {\n",
       "        text-align: right;\n",
       "    }\n",
       "</style>\n",
       "<table border=\"1\" class=\"dataframe\">\n",
       "  <thead>\n",
       "    <tr style=\"text-align: right;\">\n",
       "      <th></th>\n",
       "      <th>counts</th>\n",
       "    </tr>\n",
       "    <tr>\n",
       "      <th>author</th>\n",
       "      <th></th>\n",
       "    </tr>\n",
       "  </thead>\n",
       "  <tbody>\n",
       "    <tr>\n",
       "      <th>gst</th>\n",
       "      <td>18870</td>\n",
       "    </tr>\n",
       "    <tr>\n",
       "      <th>qgyh2</th>\n",
       "      <td>12238</td>\n",
       "    </tr>\n",
       "    <tr>\n",
       "      <th>rmuser</th>\n",
       "      <td>9822</td>\n",
       "    </tr>\n",
       "    <tr>\n",
       "      <th>twolf1</th>\n",
       "      <td>8597</td>\n",
       "    </tr>\n",
       "    <tr>\n",
       "      <th>IAmperfectlyCalm</th>\n",
       "      <td>8308</td>\n",
       "    </tr>\n",
       "    <tr>\n",
       "      <th>qazamisan</th>\n",
       "      <td>6927</td>\n",
       "    </tr>\n",
       "    <tr>\n",
       "      <th>charlatan</th>\n",
       "      <td>5998</td>\n",
       "    </tr>\n",
       "    <tr>\n",
       "      <th>igeldard</th>\n",
       "      <td>5373</td>\n",
       "    </tr>\n",
       "    <tr>\n",
       "      <th>noname99</th>\n",
       "      <td>5334</td>\n",
       "    </tr>\n",
       "    <tr>\n",
       "      <th>democracy101</th>\n",
       "      <td>5332</td>\n",
       "    </tr>\n",
       "  </tbody>\n",
       "</table>\n",
       "</div>"
      ],
      "text/plain": [
       "                  counts\n",
       "author                  \n",
       "gst                18870\n",
       "qgyh2              12238\n",
       "rmuser              9822\n",
       "twolf1              8597\n",
       "IAmperfectlyCalm    8308\n",
       "qazamisan           6927\n",
       "charlatan           5998\n",
       "igeldard            5373\n",
       "noname99            5334\n",
       "democracy101        5332"
      ]
     },
     "execution_count": 100,
     "metadata": {},
     "output_type": "execute_result"
    }
   ],
   "source": [
    "data_sub = sub\n",
    "print(data_sub.columns)\n",
    "data_sub_g = data_sub.groupby('author').agg(counts = ('id' , 'count')).nlargest(5, 'counts')\n",
    "data_sub_g"
   ]
  },
  {
   "cell_type": "markdown",
   "id": "7e2acf1c",
   "metadata": {},
   "source": [
    "### 3.2 - Najveci broj komentara\n"
   ]
  },
  {
   "cell_type": "code",
   "execution_count": 102,
   "id": "7c509df0",
   "metadata": {},
   "outputs": [
    {
     "name": "stdout",
     "output_type": "stream",
     "text": [
      "Index(['id', 'author', 'link_id', 'parent_id', 'subreddit', 'subreddit_id'], dtype='object')\n"
     ]
    },
    {
     "data": {
      "text/html": [
       "<div>\n",
       "<style scoped>\n",
       "    .dataframe tbody tr th:only-of-type {\n",
       "        vertical-align: middle;\n",
       "    }\n",
       "\n",
       "    .dataframe tbody tr th {\n",
       "        vertical-align: top;\n",
       "    }\n",
       "\n",
       "    .dataframe thead th {\n",
       "        text-align: right;\n",
       "    }\n",
       "</style>\n",
       "<table border=\"1\" class=\"dataframe\">\n",
       "  <thead>\n",
       "    <tr style=\"text-align: right;\">\n",
       "      <th></th>\n",
       "      <th>counts</th>\n",
       "    </tr>\n",
       "    <tr>\n",
       "      <th>author</th>\n",
       "      <th></th>\n",
       "    </tr>\n",
       "  </thead>\n",
       "  <tbody>\n",
       "    <tr>\n",
       "      <th>NoMoreNicksLeft</th>\n",
       "      <td>13480</td>\n",
       "    </tr>\n",
       "    <tr>\n",
       "      <th>malcontent</th>\n",
       "      <td>12159</td>\n",
       "    </tr>\n",
       "    <tr>\n",
       "      <th>matts2</th>\n",
       "      <td>11672</td>\n",
       "    </tr>\n",
       "    <tr>\n",
       "      <th>mexicodoug</th>\n",
       "      <td>9169</td>\n",
       "    </tr>\n",
       "    <tr>\n",
       "      <th>7oby</th>\n",
       "      <td>9161</td>\n",
       "    </tr>\n",
       "    <tr>\n",
       "      <th>aletoledo</th>\n",
       "      <td>8085</td>\n",
       "    </tr>\n",
       "    <tr>\n",
       "      <th>mutatron</th>\n",
       "      <td>7771</td>\n",
       "    </tr>\n",
       "    <tr>\n",
       "      <th>otakucode</th>\n",
       "      <td>7759</td>\n",
       "    </tr>\n",
       "    <tr>\n",
       "      <th>redditcensoredme</th>\n",
       "      <td>7468</td>\n",
       "    </tr>\n",
       "    <tr>\n",
       "      <th>h0dg3s</th>\n",
       "      <td>7439</td>\n",
       "    </tr>\n",
       "  </tbody>\n",
       "</table>\n",
       "</div>"
      ],
      "text/plain": [
       "                  counts\n",
       "author                  \n",
       "NoMoreNicksLeft    13480\n",
       "malcontent         12159\n",
       "matts2             11672\n",
       "mexicodoug          9169\n",
       "7oby                9161\n",
       "aletoledo           8085\n",
       "mutatron            7771\n",
       "otakucode           7759\n",
       "redditcensoredme    7468\n",
       "h0dg3s              7439"
      ]
     },
     "execution_count": 102,
     "metadata": {},
     "output_type": "execute_result"
    }
   ],
   "source": [
    "data_comm = comm\n",
    "print(data_comm.columns)\n",
    "data_comm_g = data_comm.groupby('author').agg(counts = ('id' , 'count')).nlargest(5, 'counts')\n",
    "data_comm_g"
   ]
  },
  {
   "cell_type": "markdown",
   "id": "fab4aba2",
   "metadata": {},
   "source": [
    "### 4 - Najveci broj subredita\n"
   ]
  },
  {
   "cell_type": "code",
   "execution_count": 110,
   "id": "a0537397",
   "metadata": {},
   "outputs": [
    {
     "data": {
      "text/html": [
       "<div>\n",
       "<style scoped>\n",
       "    .dataframe tbody tr th:only-of-type {\n",
       "        vertical-align: middle;\n",
       "    }\n",
       "\n",
       "    .dataframe tbody tr th {\n",
       "        vertical-align: top;\n",
       "    }\n",
       "\n",
       "    .dataframe thead th {\n",
       "        text-align: right;\n",
       "    }\n",
       "</style>\n",
       "<table border=\"1\" class=\"dataframe\">\n",
       "  <thead>\n",
       "    <tr style=\"text-align: right;\">\n",
       "      <th></th>\n",
       "      <th>num_activity</th>\n",
       "    </tr>\n",
       "    <tr>\n",
       "      <th>author</th>\n",
       "      <th></th>\n",
       "    </tr>\n",
       "  </thead>\n",
       "  <tbody>\n",
       "    <tr>\n",
       "      <th>MrKlaatu</th>\n",
       "      <td>181</td>\n",
       "    </tr>\n",
       "    <tr>\n",
       "      <th>Escafane</th>\n",
       "      <td>154</td>\n",
       "    </tr>\n",
       "    <tr>\n",
       "      <th>omfgninja</th>\n",
       "      <td>122</td>\n",
       "    </tr>\n",
       "    <tr>\n",
       "      <th>codepoet</th>\n",
       "      <td>111</td>\n",
       "    </tr>\n",
       "    <tr>\n",
       "      <th>scientologist2</th>\n",
       "      <td>111</td>\n",
       "    </tr>\n",
       "    <tr>\n",
       "      <th>turkourjurbs</th>\n",
       "      <td>110</td>\n",
       "    </tr>\n",
       "    <tr>\n",
       "      <th>Sylveran-01</th>\n",
       "      <td>107</td>\n",
       "    </tr>\n",
       "    <tr>\n",
       "      <th>b34nz</th>\n",
       "      <td>107</td>\n",
       "    </tr>\n",
       "    <tr>\n",
       "      <th>krugerlive</th>\n",
       "      <td>106</td>\n",
       "    </tr>\n",
       "    <tr>\n",
       "      <th>tuoder</th>\n",
       "      <td>103</td>\n",
       "    </tr>\n",
       "  </tbody>\n",
       "</table>\n",
       "</div>"
      ],
      "text/plain": [
       "                num_activity\n",
       "author                      \n",
       "MrKlaatu                 181\n",
       "Escafane                 154\n",
       "omfgninja                122\n",
       "codepoet                 111\n",
       "scientologist2           111\n",
       "turkourjurbs             110\n",
       "Sylveran-01              107\n",
       "b34nz                    107\n",
       "krugerlive               106\n",
       "tuoder                   103"
      ]
     },
     "execution_count": 110,
     "metadata": {},
     "output_type": "execute_result"
    }
   ],
   "source": [
    "data_g = data.groupby('author').agg(num_activity = ('subreddit_id', 'nunique')).nlargest(5, 'num_activity')\n",
    "data_g"
   ]
  },
  {
   "cell_type": "code",
   "execution_count": null,
   "id": "169d7c17",
   "metadata": {},
   "outputs": [],
   "source": []
  }
 ],
 "metadata": {
  "kernelspec": {
   "display_name": "Python 3 (ipykernel)",
   "language": "python",
   "name": "python3"
  },
  "language_info": {
   "codemirror_mode": {
    "name": "ipython",
    "version": 3
   },
   "file_extension": ".py",
   "mimetype": "text/x-python",
   "name": "python",
   "nbconvert_exporter": "python",
   "pygments_lexer": "ipython3",
   "version": "3.9.12"
  }
 },
 "nbformat": 4,
 "nbformat_minor": 5
}
