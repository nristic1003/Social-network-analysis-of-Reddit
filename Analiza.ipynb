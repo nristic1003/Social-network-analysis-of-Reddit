{
 "cells": [
  {
   "cell_type": "code",
   "execution_count": 1,
   "id": "77756ff4",
   "metadata": {},
   "outputs": [
    {
     "name": "stdout",
     "output_type": "stream",
     "text": [
      "            id                                                url  \\\n",
      "0        648oo  http://www.ignorancedenied.com/viewthread.php?...   \n",
      "1        648op                http://www.flascience.org/wp/?p=363   \n",
      "3        648or  http://hosted.ap.org/dynamic/stories/O/ODD_SHO...   \n",
      "4        648os  http://www.sltrib.com/opinion/ci_7846101?sourc...   \n",
      "5        648ot  http://hosted.ap.org/dynamic/stories/O/ODD_RAR...   \n",
      "...        ...                                                ...   \n",
      "2519844  7mq3n  http://ventaboutsports.blogspot.com/2008/12/so...   \n",
      "2519845  7mq3o      http://www.pbs.org/mormons/etc/genealogy.html   \n",
      "2519847  7mq3q                         http://www.narutogames.biz   \n",
      "2519848  7mq3r  http://www.youtube.com/watch?v=gdQH1CI4LHY&amp...   \n",
      "2519852  7mq3v  http://player.video.news.com.au/dailytelegraph...   \n",
      "\n",
      "                                                 permalink           author  \\\n",
      "0        /r/reddit.com/comments/648oo/brain_disease_is_...            DITUS   \n",
      "1        /r/science/comments/648op/three_more_florida_c...           rmuser   \n",
      "3        /r/reddit.com/comments/648or/nude_couple_grapp...            zorno   \n",
      "4        /r/politics/comments/648os/apparently_bushs_pr...           rmuser   \n",
      "5        /r/reddit.com/comments/648ot/diners_find_rare_...            zorno   \n",
      "...                                                    ...              ...   \n",
      "2519844  /r/funny/comments/7mq3n/some_extremely_corny_j...  themightymidget   \n",
      "2519845  /r/news/comments/7mq3o/pbs_looks_at_the_massiv...            Tom22   \n",
      "2519847         /r/reddit.com/comments/7mq3q/naruto_games/         bixiebix   \n",
      "2519848  /r/politics/comments/7mq3r/ron_paul_on_recent_...         middkidd   \n",
      "2519852  /r/reddit.com/comments/7mq3v/video_nye_firewor...           klippa   \n",
      "\n",
      "         created_utc   subreddit subreddit_id  num_comments  over_18  \n",
      "0         1199145615  reddit.com         t5_6             1    False  \n",
      "1         1199145634     science      t5_mouw             5    False  \n",
      "3         1199145709  reddit.com         t5_6             1    False  \n",
      "4         1199145735    politics     t5_2cneq             2    False  \n",
      "5         1199145735  reddit.com         t5_6             0    False  \n",
      "...              ...         ...          ...           ...      ...  \n",
      "2519844   1230767909       funny     t5_2qh33             0    False  \n",
      "2519845   1230767926        news     t5_2qh3l             0    False  \n",
      "2519847   1230767937  reddit.com         t5_6             7    False  \n",
      "2519848   1230767963    politics     t5_2cneq             3    False  \n",
      "2519852   1230767988  reddit.com         t5_6             1    False  \n",
      "\n",
      "[2044810 rows x 9 columns]\n",
      "(2044810, 9)\n",
      "(4873690, 6)\n",
      "(6918500, 3)\n"
     ]
    },
    {
     "data": {
      "text/html": [
       "<div>\n",
       "<style scoped>\n",
       "    .dataframe tbody tr th:only-of-type {\n",
       "        vertical-align: middle;\n",
       "    }\n",
       "\n",
       "    .dataframe tbody tr th {\n",
       "        vertical-align: top;\n",
       "    }\n",
       "\n",
       "    .dataframe thead th {\n",
       "        text-align: right;\n",
       "    }\n",
       "</style>\n",
       "<table border=\"1\" class=\"dataframe\">\n",
       "  <thead>\n",
       "    <tr style=\"text-align: right;\">\n",
       "      <th></th>\n",
       "      <th>author</th>\n",
       "      <th>subreddit_id</th>\n",
       "      <th>subreddit</th>\n",
       "    </tr>\n",
       "  </thead>\n",
       "  <tbody>\n",
       "    <tr>\n",
       "      <th>0</th>\n",
       "      <td>Haven</td>\n",
       "      <td>t5_6</td>\n",
       "      <td>reddit.com</td>\n",
       "    </tr>\n",
       "    <tr>\n",
       "      <th>1</th>\n",
       "      <td>lilmiss2</td>\n",
       "      <td>t5_6</td>\n",
       "      <td>reddit.com</td>\n",
       "    </tr>\n",
       "    <tr>\n",
       "      <th>2</th>\n",
       "      <td>EverybodysAnAsshole</td>\n",
       "      <td>t5_6</td>\n",
       "      <td>reddit.com</td>\n",
       "    </tr>\n",
       "    <tr>\n",
       "      <th>3</th>\n",
       "      <td>generalk</td>\n",
       "      <td>t5_2fwo</td>\n",
       "      <td>programming</td>\n",
       "    </tr>\n",
       "    <tr>\n",
       "      <th>4</th>\n",
       "      <td>seeker135</td>\n",
       "      <td>t5_2cneq</td>\n",
       "      <td>politics</td>\n",
       "    </tr>\n",
       "    <tr>\n",
       "      <th>...</th>\n",
       "      <td>...</td>\n",
       "      <td>...</td>\n",
       "      <td>...</td>\n",
       "    </tr>\n",
       "    <tr>\n",
       "      <th>6918495</th>\n",
       "      <td>themightymidget</td>\n",
       "      <td>t5_2qh33</td>\n",
       "      <td>funny</td>\n",
       "    </tr>\n",
       "    <tr>\n",
       "      <th>6918496</th>\n",
       "      <td>Tom22</td>\n",
       "      <td>t5_2qh3l</td>\n",
       "      <td>news</td>\n",
       "    </tr>\n",
       "    <tr>\n",
       "      <th>6918497</th>\n",
       "      <td>bixiebix</td>\n",
       "      <td>t5_6</td>\n",
       "      <td>reddit.com</td>\n",
       "    </tr>\n",
       "    <tr>\n",
       "      <th>6918498</th>\n",
       "      <td>middkidd</td>\n",
       "      <td>t5_2cneq</td>\n",
       "      <td>politics</td>\n",
       "    </tr>\n",
       "    <tr>\n",
       "      <th>6918499</th>\n",
       "      <td>klippa</td>\n",
       "      <td>t5_6</td>\n",
       "      <td>reddit.com</td>\n",
       "    </tr>\n",
       "  </tbody>\n",
       "</table>\n",
       "<p>6918500 rows × 3 columns</p>\n",
       "</div>"
      ],
      "text/plain": [
       "                      author subreddit_id    subreddit\n",
       "0                      Haven         t5_6   reddit.com\n",
       "1                   lilmiss2         t5_6   reddit.com\n",
       "2        EverybodysAnAsshole         t5_6   reddit.com\n",
       "3                   generalk      t5_2fwo  programming\n",
       "4                  seeker135     t5_2cneq     politics\n",
       "...                      ...          ...          ...\n",
       "6918495      themightymidget     t5_2qh33        funny\n",
       "6918496                Tom22     t5_2qh3l         news\n",
       "6918497             bixiebix         t5_6   reddit.com\n",
       "6918498             middkidd     t5_2cneq     politics\n",
       "6918499               klippa         t5_6   reddit.com\n",
       "\n",
       "[6918500 rows x 3 columns]"
      ]
     },
     "execution_count": 1,
     "metadata": {},
     "output_type": "execute_result"
    }
   ],
   "source": [
    "import networkx as nx\n",
    "import pickle\n",
    "import pandas as pd\n",
    "import numpy as np\n",
    "import matplotlib.pyplot as plt\n",
    "\n",
    "with open(\"data/cleaned/sub\", 'rb') as f:\n",
    "    sub = pickle.load(f)\n",
    "with open(\"data/cleaned/comm\", 'rb') as f:\n",
    "    comm = pickle.load(f)\n",
    "\n",
    "    \n",
    "diff_sub = data.groupby(['subreddit']).agg(num_of_diff = ('subreddit' , 'nunique'))\n",
    "print(diff_sub)\n",
    "    \n",
    "data = pd.concat([comm[['author', 'subreddit_id', 'subreddit']], sub[['author', 'subreddit_id', 'subreddit']]], ignore_index=True)\n",
    "print(sub.shape)\n",
    "print(comm.shape)\n",
    "print(data.shape)\n",
    "data\n"
   ]
  },
  {
   "cell_type": "code",
   "execution_count": 3,
   "id": "4fa28384",
   "metadata": {},
   "outputs": [
    {
     "name": "stdout",
     "output_type": "stream",
     "text": [
      "                    num_of_diff\n",
      "subreddit                      \n",
      "10stepstohealth               2\n",
      "1111111                       2\n",
      "1337                          4\n",
      "1_Irritated_Mother            2\n",
      "1keral                        3\n",
      "...                         ...\n",
      "zoepster                      3\n",
      "zombies                     335\n",
      "zope                          5\n",
      "zora                          6\n",
      "zubii                         1\n",
      "\n",
      "[4359 rows x 1 columns]\n"
     ]
    }
   ],
   "source": [
    "diff_sub = data.groupby(['subreddit']).agg(num_of_diff = ('subreddit' , 'count'))\n",
    "print(diff_sub)"
   ]
  },
  {
   "cell_type": "markdown",
   "id": "a1b774bb",
   "metadata": {},
   "source": [
    "###  1.2) Broj korisnika\n",
    "\n",
    "\n",
    "\n"
   ]
  },
  {
   "cell_type": "code",
   "execution_count": 93,
   "id": "5d9e3913",
   "metadata": {},
   "outputs": [
    {
     "name": "stdout",
     "output_type": "stream",
     "text": [
      "                            author\n",
      "subreddit_id subreddit            \n",
      "t5_6         reddit.com     163779\n",
      "t5_2cneq     politics        38374\n",
      "t5_2qh0u     pics            29753\n",
      "t5_2qh16     technology      28337\n",
      "t5_2qh33     funny           28186\n",
      "t5_2qh0f     entertainment   26360\n",
      "t5_mouw      science         25854\n",
      "t5_2fwo      programming     25819\n",
      "t5_2qgzg     business        25253\n",
      "t5_2qh13     worldnews       24937\n"
     ]
    }
   ],
   "source": [
    "data_g = data.groupby(['subreddit_id', 'subreddit']).nunique().sort_values(by= ['author'], ascending = False)\n",
    "print(data_g.head(10))"
   ]
  },
  {
   "cell_type": "markdown",
   "id": "cdfe6f70",
   "metadata": {},
   "source": [
    "### 1.3) Broj Komentara"
   ]
  },
  {
   "cell_type": "code",
   "execution_count": 94,
   "id": "e32c26d8",
   "metadata": {},
   "outputs": [
    {
     "name": "stdout",
     "output_type": "stream",
     "text": [
      "                           counts\n",
      "subreddit   subreddit_id         \n",
      "reddit.com  t5_6          1143184\n",
      "politics    t5_2cneq       801396\n",
      "programming t5_2fwo        345997\n",
      "pics        t5_2qh0u       286192\n",
      "science     t5_mouw        238291\n",
      "worldnews   t5_2qh13       228793\n",
      "WTF         t5_2qh61       187876\n",
      "funny       t5_2qh33       175547\n",
      "technology  t5_2qh16       149803\n",
      "AskReddit   t5_2qh1i       139760\n"
     ]
    }
   ],
   "source": [
    "data_comm = comm\n",
    "data_comm\n",
    "data_comm_g = data_comm.groupby(['subreddit' , 'subreddit_id']).agg(counts=('id' , 'count')).nlargest(10, \"counts\")\n",
    "print(data_comm_g.head(10))\n",
    "\n"
   ]
  },
  {
   "cell_type": "markdown",
   "id": "0214884e",
   "metadata": {},
   "source": [
    "### 2 Prosecan broj korisnika"
   ]
  },
  {
   "cell_type": "code",
   "execution_count": 133,
   "id": "d3ec4af9",
   "metadata": {},
   "outputs": [
    {
     "name": "stdout",
     "output_type": "stream",
     "text": [
      "Prosecan broj usera : 148.63142201834862\n"
     ]
    }
   ],
   "source": [
    "users_g = data.groupby(['subreddit', 'subreddit_id']).agg(numUsers= ('author', 'nunique'))['numUsers'].sum()\n",
    "list_sub = set(sub['subreddit_id'].unique())\n",
    "list_comm = set(comm['subreddit_id'].unique())\n",
    "\n",
    "set_of_subreddits = list_sub.union(list_comm)\n",
    "\n",
    "print(\"Prosecan broj usera :\" , users_g / len(set_of_subreddits))"
   ]
  },
  {
   "cell_type": "markdown",
   "id": "62273f2e",
   "metadata": {},
   "source": [
    "### 3 - Najveci broj objava"
   ]
  },
  {
   "cell_type": "code",
   "execution_count": 111,
   "id": "aeb44691",
   "metadata": {},
   "outputs": [
    {
     "name": "stdout",
     "output_type": "stream",
     "text": [
      "Index(['id', 'url', 'permalink', 'author', 'created_utc', 'subreddit',\n",
      "       'subreddit_id', 'num_comments'],\n",
      "      dtype='object')\n"
     ]
    },
    {
     "data": {
      "text/html": [
       "<div>\n",
       "<style scoped>\n",
       "    .dataframe tbody tr th:only-of-type {\n",
       "        vertical-align: middle;\n",
       "    }\n",
       "\n",
       "    .dataframe tbody tr th {\n",
       "        vertical-align: top;\n",
       "    }\n",
       "\n",
       "    .dataframe thead th {\n",
       "        text-align: right;\n",
       "    }\n",
       "</style>\n",
       "<table border=\"1\" class=\"dataframe\">\n",
       "  <thead>\n",
       "    <tr style=\"text-align: right;\">\n",
       "      <th></th>\n",
       "      <th>counts</th>\n",
       "    </tr>\n",
       "    <tr>\n",
       "      <th>author</th>\n",
       "      <th></th>\n",
       "    </tr>\n",
       "  </thead>\n",
       "  <tbody>\n",
       "    <tr>\n",
       "      <th>gst</th>\n",
       "      <td>18870</td>\n",
       "    </tr>\n",
       "    <tr>\n",
       "      <th>qgyh2</th>\n",
       "      <td>12238</td>\n",
       "    </tr>\n",
       "    <tr>\n",
       "      <th>rmuser</th>\n",
       "      <td>9822</td>\n",
       "    </tr>\n",
       "    <tr>\n",
       "      <th>twolf1</th>\n",
       "      <td>8597</td>\n",
       "    </tr>\n",
       "    <tr>\n",
       "      <th>IAmperfectlyCalm</th>\n",
       "      <td>8308</td>\n",
       "    </tr>\n",
       "  </tbody>\n",
       "</table>\n",
       "</div>"
      ],
      "text/plain": [
       "                  counts\n",
       "author                  \n",
       "gst                18870\n",
       "qgyh2              12238\n",
       "rmuser              9822\n",
       "twolf1              8597\n",
       "IAmperfectlyCalm    8308"
      ]
     },
     "execution_count": 111,
     "metadata": {},
     "output_type": "execute_result"
    }
   ],
   "source": [
    "data_sub = sub\n",
    "print(data_sub.columns)\n",
    "data_sub_g = data_sub.groupby('author').agg(counts = ('id' , 'count')).nlargest(5, 'counts')\n",
    "data_sub_g"
   ]
  },
  {
   "cell_type": "markdown",
   "id": "05b67f29",
   "metadata": {},
   "source": [
    "### 3.2 - Najveci broj komentara\n"
   ]
  },
  {
   "cell_type": "code",
   "execution_count": 112,
   "id": "ce798173",
   "metadata": {},
   "outputs": [
    {
     "name": "stdout",
     "output_type": "stream",
     "text": [
      "Index(['id', 'author', 'link_id', 'parent_id', 'subreddit', 'subreddit_id'], dtype='object')\n"
     ]
    },
    {
     "data": {
      "text/html": [
       "<div>\n",
       "<style scoped>\n",
       "    .dataframe tbody tr th:only-of-type {\n",
       "        vertical-align: middle;\n",
       "    }\n",
       "\n",
       "    .dataframe tbody tr th {\n",
       "        vertical-align: top;\n",
       "    }\n",
       "\n",
       "    .dataframe thead th {\n",
       "        text-align: right;\n",
       "    }\n",
       "</style>\n",
       "<table border=\"1\" class=\"dataframe\">\n",
       "  <thead>\n",
       "    <tr style=\"text-align: right;\">\n",
       "      <th></th>\n",
       "      <th>counts</th>\n",
       "    </tr>\n",
       "    <tr>\n",
       "      <th>author</th>\n",
       "      <th></th>\n",
       "    </tr>\n",
       "  </thead>\n",
       "  <tbody>\n",
       "    <tr>\n",
       "      <th>NoMoreNicksLeft</th>\n",
       "      <td>13480</td>\n",
       "    </tr>\n",
       "    <tr>\n",
       "      <th>malcontent</th>\n",
       "      <td>12159</td>\n",
       "    </tr>\n",
       "    <tr>\n",
       "      <th>matts2</th>\n",
       "      <td>11672</td>\n",
       "    </tr>\n",
       "    <tr>\n",
       "      <th>mexicodoug</th>\n",
       "      <td>9169</td>\n",
       "    </tr>\n",
       "    <tr>\n",
       "      <th>7oby</th>\n",
       "      <td>9161</td>\n",
       "    </tr>\n",
       "  </tbody>\n",
       "</table>\n",
       "</div>"
      ],
      "text/plain": [
       "                 counts\n",
       "author                 \n",
       "NoMoreNicksLeft   13480\n",
       "malcontent        12159\n",
       "matts2            11672\n",
       "mexicodoug         9169\n",
       "7oby               9161"
      ]
     },
     "execution_count": 112,
     "metadata": {},
     "output_type": "execute_result"
    }
   ],
   "source": [
    "data_comm = comm\n",
    "print(data_comm.columns)\n",
    "data_comm_g = data_comm.groupby('author').agg(counts = ('id' , 'count')).nlargest(5, 'counts')\n",
    "data_comm_g"
   ]
  },
  {
   "cell_type": "markdown",
   "id": "53d5bd12",
   "metadata": {},
   "source": [
    "### 4 - Najveci broj subredita\n"
   ]
  },
  {
   "cell_type": "code",
   "execution_count": 113,
   "id": "94cf822d",
   "metadata": {},
   "outputs": [
    {
     "data": {
      "text/html": [
       "<div>\n",
       "<style scoped>\n",
       "    .dataframe tbody tr th:only-of-type {\n",
       "        vertical-align: middle;\n",
       "    }\n",
       "\n",
       "    .dataframe tbody tr th {\n",
       "        vertical-align: top;\n",
       "    }\n",
       "\n",
       "    .dataframe thead th {\n",
       "        text-align: right;\n",
       "    }\n",
       "</style>\n",
       "<table border=\"1\" class=\"dataframe\">\n",
       "  <thead>\n",
       "    <tr style=\"text-align: right;\">\n",
       "      <th></th>\n",
       "      <th>num_activity</th>\n",
       "    </tr>\n",
       "    <tr>\n",
       "      <th>author</th>\n",
       "      <th></th>\n",
       "    </tr>\n",
       "  </thead>\n",
       "  <tbody>\n",
       "    <tr>\n",
       "      <th>MrKlaatu</th>\n",
       "      <td>181</td>\n",
       "    </tr>\n",
       "    <tr>\n",
       "      <th>Escafane</th>\n",
       "      <td>154</td>\n",
       "    </tr>\n",
       "    <tr>\n",
       "      <th>omfgninja</th>\n",
       "      <td>122</td>\n",
       "    </tr>\n",
       "    <tr>\n",
       "      <th>codepoet</th>\n",
       "      <td>111</td>\n",
       "    </tr>\n",
       "    <tr>\n",
       "      <th>scientologist2</th>\n",
       "      <td>111</td>\n",
       "    </tr>\n",
       "  </tbody>\n",
       "</table>\n",
       "</div>"
      ],
      "text/plain": [
       "                num_activity\n",
       "author                      \n",
       "MrKlaatu                 181\n",
       "Escafane                 154\n",
       "omfgninja                122\n",
       "codepoet                 111\n",
       "scientologist2           111"
      ]
     },
     "execution_count": 113,
     "metadata": {},
     "output_type": "execute_result"
    }
   ],
   "source": [
    "data_g = data.groupby('author').agg(num_activity = ('subreddit_id', 'nunique')).nlargest(5, 'num_activity')\n",
    "data_g"
   ]
  },
  {
   "cell_type": "markdown",
   "id": "4610de22",
   "metadata": {},
   "source": [
    "### 5 - Kolerisani brojevi\n"
   ]
  },
  {
   "cell_type": "code",
   "execution_count": 5,
   "id": "a275195a",
   "metadata": {},
   "outputs": [
    {
     "name": "stdout",
     "output_type": "stream",
     "text": [
      "                      num_sub\n",
      "author                       \n",
      "*polhold00133               8\n",
      "*polhold00149               1\n",
      "--------------------        1\n",
      "-----KATHRINE               1\n",
      "--semi--                    1\n",
      "...                       ...\n",
      "zzzxxc                      1\n",
      "zzzz2008                   16\n",
      "zzzz71                      1\n",
      "zzzzzzzzzzz                 2\n",
      "zzzzzzzzzzzzzzzzzzz         1\n",
      "\n",
      "[185351 rows x 1 columns]\n",
      "0.14608000759906184\n",
      "0.0\n"
     ]
    },
    {
     "data": {
      "image/png": "[encoded data removed]",
      "text/plain": [
       "<Figure size 432x288 with 1 Axes>"
      ]
     },
     "metadata": {
      "needs_background": "light"
     },
     "output_type": "display_data"
    }
   ],
   "source": [
    "import scipy.stats as stats\n",
    "sub_grouped = sub.groupby('author').agg(num_sub = ('id' , 'count'))\n",
    "print(sub_grouped)\n",
    "comm_grouped = comm.groupby('author').agg(num_comm = ('id' , 'count'))\n",
    "together = pd.concat([sub_grouped , comm_grouped] , axis = 1).fillna(0)\n",
    "\n",
    "cc, p = stats.pearsonr(together['num_sub'], together['num_comm'])\n",
    "\n",
    "print(cc)\n",
    "print(p)\n",
    "\n",
    "def plot_deg_corr(x , y, xscale = \"linear\", yscale = \"linear\"):\n",
    "    \n",
    "\n",
    "    plt.figure(1)   \n",
    "\n",
    "    plt.xlabel('num_sub')                                                                                                             \n",
    "    plt.xscale(xscale)                                                                                                                \n",
    "    plt.xlim(1, max(x)) \n",
    "\n",
    "    plt.ylabel('num_comm')                                                                                                          \n",
    "    plt.yscale(yscale)                                                                                                                \n",
    "    plt.ylim(1, max(y))                                                                                                             \n",
    "\n",
    "    plt.scatter(x, y, marker='.')                                                                                                    \n",
    "    plt.show()\n",
    "\n",
    "plot_deg_corr(together['num_sub'], together['num_comm'])\n",
    "\n"
   ]
  },
  {
   "cell_type": "markdown",
   "id": "0c5bcb10",
   "metadata": {},
   "source": [
    "### 6 - Over 18"
   ]
  },
  {
   "cell_type": "code",
   "execution_count": null,
   "id": "cdce2e3b",
   "metadata": {},
   "outputs": [],
   "source": []
  },
  {
   "cell_type": "code",
   "execution_count": 6,
   "id": "762198e9",
   "metadata": {},
   "outputs": [
    {
     "name": "stdout",
     "output_type": "stream",
     "text": [
      "            id                                                url  \\\n",
      "914332   6nz1k                          http://hundredpushups.com   \n",
      "1871724  78n1v  http://www.time.com/time/nation/article/0,8599...   \n",
      "135995   675oj  https://www.reddit.com/r/reddit.com/comments/6...   \n",
      "1999653  7beo2  https://www.reddit.com/r/politics/comments/7be...   \n",
      "1428657  6z2e2  http://www.nytimes.com/reuters/us/internationa...   \n",
      "\n",
      "                                                 permalink        author  \\\n",
      "914332   /r/science/comments/6nz1k/got_six_weeks_try_th...         zekel   \n",
      "1871724  /r/WTF/comments/78n1v/a_black_community_in_oh_...      indorock   \n",
      "135995   /r/reddit.com/comments/675oj/post_the_funniest...   matiasklein   \n",
      "1999653  /r/politics/comments/7beo2/obama_wins_the_pres...  willjohnston   \n",
      "1428657  /r/reddit.com/comments/6z2e2/palin_says_her_da...   nucleophile   \n",
      "\n",
      "         created_utc   subreddit subreddit_id  num_comments  over_18  \n",
      "914332    1213826517     science      t5_mouw         33329    False  \n",
      "1871724   1224677051         WTF     t5_2qh61          3657    False  \n",
      "135995    1201730171  reddit.com         t5_6          2039    False  \n",
      "1999653   1225857637    politics     t5_2cneq          1934    False  \n",
      "1428657   1220285161  reddit.com         t5_6          1425    False  \n"
     ]
    }
   ],
   "source": [
    "data_sub = sub[sub['over_18'] !=True]\n",
    "data_sub = data_sub.sort_values('num_comments', ascending=False) \n",
    "print(data_sub.nlargest(5, 'num_comments'))"
   ]
  },
  {
   "cell_type": "code",
   "execution_count": null,
   "id": "bdf08db7",
   "metadata": {},
   "outputs": [],
   "source": []
  }
 ],
 "metadata": {
  "kernelspec": {
   "display_name": "Python 3 (ipykernel)",
   "language": "python",
   "name": "python3"
  },
  "language_info": {
   "codemirror_mode": {
    "name": "ipython",
    "version": 3
   },
   "file_extension": ".py",
   "mimetype": "text/x-python",
   "name": "python",
   "nbconvert_exporter": "python",
   "pygments_lexer": "ipython3",
   "version": "3.9.12"
  }
 },
 "nbformat": 4,
 "nbformat_minor": 5
}
