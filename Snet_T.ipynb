{
 "cells": [
  {
   "cell_type": "code",
   "execution_count": 2,
   "id": "82307021",
   "metadata": {
    "scrolled": true
   },
   "outputs": [
    {
     "name": "stdout",
     "output_type": "stream",
     "text": [
      "Graph with 4359 nodes and 156959 edges\n",
      "Graph with 39 nodes and 741 edges\n"
     ]
    },
    {
     "name": "stderr",
     "output_type": "stream",
     "text": [
      "C:\\Users\\Nikola\\AppData\\Local\\Temp\\ipykernel_23916\\2340547734.py:13: DeprecationWarning: info is deprecated and will be removed in version 3.0.\n",
      "\n",
      "  print(nx.info(G))\n",
      "C:\\Users\\Nikola\\AppData\\Local\\Temp\\ipykernel_23916\\2340547734.py:15: DeprecationWarning: info is deprecated and will be removed in version 3.0.\n",
      "\n",
      "  print(nx.info(snet_t))\n"
     ]
    }
   ],
   "source": [
    "import networkx as nx\n",
    "import pickle\n",
    "import pandas as pd\n",
    "import numpy as np\n",
    "import matplotlib.pyplot as plt\n",
    "\n",
    "to_remove_list = ['reddit.com', 'pics', 'worldnews', 'programming', 'business', 'politics', 'obama', \n",
    "                  'science', 'technology', 'WTF', 'AskReddit', 'netsec', 'philosophy', 'videos', 'offbeat',\n",
    "                  'funny', 'entertainment', 'linux', 'geek', 'gaming', 'comics', 'gadgets', 'nsfw', 'news', 'environment',\n",
    "                  'atheism', 'canada', 'math', 'Economics', 'scifi', 'bestof', 'cogsci', 'joel', 'Health', 'guns', 'photography', 'software',\n",
    "                  'history', 'ideas']\n",
    "G = nx.read_gml('graphs/snet.gml')\n",
    "print(nx.info(G))\n",
    "snet_t = G.subgraph(to_remove_list).copy()\n",
    "print(nx.info(snet_t))\n",
    "nx.write_gml(snet_t, 'graphs/snet_t.gml')"
   ]
  },
  {
   "cell_type": "markdown",
   "id": "3015ad47",
   "metadata": {},
   "source": [
    "# Odgovori Na Pitanja"
   ]
  },
  {
   "cell_type": "markdown",
   "id": "c5fa66d7",
   "metadata": {},
   "source": [
    "### 7 - Gustina Mreze je 1 (iz Gephi alata)"
   ]
  },
  {
   "cell_type": "markdown",
   "id": "e3365a2b",
   "metadata": {},
   "source": [
    "### 8 - Prosecne distance iznose:  1. Dijametar mreze je: 1 (iz Gephi alata)"
   ]
  },
  {
   "cell_type": "markdown",
   "id": "4729a77f",
   "metadata": {},
   "source": [
    "### 9 - Povezane komponente"
   ]
  },
  {
   "cell_type": "code",
   "execution_count": 3,
   "id": "79aa774c",
   "metadata": {},
   "outputs": [
    {
     "name": "stdout",
     "output_type": "stream",
     "text": [
      "Broj povezanih kompnenti:  1\n"
     ]
    }
   ],
   "source": [
    "print(\"Broj povezanih kompnenti: \" , nx.number_connected_components(snet_t))"
   ]
  },
  {
   "cell_type": "code",
   "execution_count": 5,
   "id": "ad343251",
   "metadata": {},
   "outputs": [
    {
     "name": "stdout",
     "output_type": "stream",
     "text": [
      "Velicina povezanih komponenti:\n",
      "39   \n"
     ]
    }
   ],
   "source": [
    "connected_componnets = sorted(nx.connected_components(snet_t), key=len, reverse=True)\n",
    "print(\"Velicina povezanih komponenti:\")\n",
    "for x in connected_componnets:\n",
    "    print(len(x) , \"  \")"
   ]
  },
  {
   "cell_type": "markdown",
   "id": "25364540",
   "metadata": {},
   "source": [
    "Posotji gigantska komponenta"
   ]
  },
  {
   "cell_type": "markdown",
   "id": "e3e4233e",
   "metadata": {},
   "source": [
    "### 10 - Globalni i prosecni koeficijent klasterizacije"
   ]
  },
  {
   "cell_type": "code",
   "execution_count": 6,
   "id": "68358548",
   "metadata": {},
   "outputs": [
    {
     "name": "stdout",
     "output_type": "stream",
     "text": [
      "Prosecni koeficijent klasterizacije:  1.0 , Globalni koeficijent klasterizacije:  1.0\n"
     ]
    }
   ],
   "source": [
    "print( \"Prosecni koeficijent klasterizacije: \" , nx.average_clustering(snet_t), \", Globalni koeficijent klasterizacije: \" , nx.transitivity(snet_t) )"
   ]
  },
  {
   "cell_type": "code",
   "execution_count": 7,
   "id": "8e77b822",
   "metadata": {},
   "outputs": [],
   "source": [
    "from collections import Counter\n",
    "from operator import itemgetter\n",
    "import matplotlib.pyplot as plt\n",
    "def plot_deg_frequency(G):\n",
    "    \n",
    "    _, deg_list = zip(*nx.clustering(G).items())\n",
    "    l = []\n",
    "    for k in deg_list:\n",
    "        if k > 0:\n",
    "            l.append(k)\n",
    "    \n",
    "    deg_counts = Counter(l)        \n",
    "    print(deg_counts)\n",
    "    x, y = zip(*deg_counts.items())                                                      \n",
    "\n",
    "    plt.figure(1)   \n",
    "\n",
    "\n",
    "    plt.xlabel('weighted degree')                                                                                                        \n",
    "    plt.xscale('linear')                                                                                                                \n",
    "    plt.xlim(0, max(x))  \n",
    "\n",
    "    plt.ylabel('frequency')                                                                                                          \n",
    "    plt.yscale('linear')                                                                                                                \n",
    "    plt.ylim(1, max(y))                                                                                                             \n",
    "                                                                                                                                                                                                    \n",
    "    plt.scatter(x, y, marker='.')                                                                                                    \n",
    "    plt.show()"
   ]
  },
  {
   "cell_type": "code",
   "execution_count": 8,
   "id": "cf82c3db",
   "metadata": {},
   "outputs": [
    {
     "name": "stdout",
     "output_type": "stream",
     "text": [
      "Counter({1.0: 39})\n"
     ]
    },
    {
     "data": {
      "image/png": "[encoded data removed]",
      "text/plain": [
       "<Figure size 432x288 with 1 Axes>"
      ]
     },
     "metadata": {
      "needs_background": "light"
     },
     "output_type": "display_data"
    }
   ],
   "source": [
    "plot_deg_frequency(snet_t)"
   ]
  },
  {
   "cell_type": "code",
   "execution_count": 9,
   "id": "28c130bb",
   "metadata": {},
   "outputs": [
    {
     "name": "stdout",
     "output_type": "stream",
     "text": [
      "1.0\n",
      "Counter({1.0: 39})\n"
     ]
    },
    {
     "data": {
      "image/png": "[encoded data removed]",
      "text/plain": [
       "<Figure size 432x288 with 1 Axes>"
      ]
     },
     "metadata": {
      "needs_background": "light"
     },
     "output_type": "display_data"
    }
   ],
   "source": [
    "n = snet_t.number_of_nodes()\n",
    "m = snet_t.number_of_edges()\n",
    "\n",
    "p = ( 2*float(m) ) / ( n* (n-1) )\n",
    "print(p)\n",
    "G_er = nx.erdos_renyi_graph(n, p)\n",
    "plot_deg_frequency(G_er)"
   ]
  },
  {
   "cell_type": "markdown",
   "id": "674b664e",
   "metadata": {},
   "source": [
    "Klasterizacija je jako izrazena sto se moze videti i sa grafika\n",
    "\n"
   ]
  },
  {
   "cell_type": "markdown",
   "id": "48759bcb",
   "metadata": {},
   "source": [
    "### 11 - Da. Mreza iskazuje osobine malog sveta. To se moze zakljuciti na osnovu visoke klasterizacije i prosecne duzine puta"
   ]
  },
  {
   "cell_type": "code",
   "execution_count": 8,
   "id": "64788cd3",
   "metadata": {},
   "outputs": [
    {
     "data": {
      "text/plain": [
       "EdgeView([('comics', 'nsfw'), ('comics', 'gaming'), ('comics', 'entertainment'), ('comics', 'gadgets'), ('comics', 'Health'), ('comics', 'pics'), ('comics', 'guns'), ('comics', 'funny'), ('comics', 'linux'), ('comics', 'programming'), ('comics', 'ideas'), ('comics', 'reddit.com'), ('comics', 'joel'), ('comics', 'videos'), ('comics', 'business'), ('comics', 'history'), ('comics', 'science'), ('comics', 'obama'), ('comics', 'philosophy'), ('comics', 'photography'), ('comics', 'software'), ('comics', 'AskReddit'), ('comics', 'cogsci'), ('comics', 'math'), ('comics', 'technology'), ('comics', 'politics'), ('comics', 'atheism'), ('comics', 'bestof'), ('comics', 'scifi'), ('comics', 'news'), ('comics', 'environment'), ('comics', 'geek'), ('comics', 'WTF'), ('comics', 'netsec'), ('comics', 'Economics'), ('comics', 'worldnews'), ('comics', 'offbeat'), ('comics', 'canada'), ('funny', 'nsfw'), ('funny', 'gaming'), ('funny', 'entertainment'), ('funny', 'gadgets'), ('funny', 'Health'), ('funny', 'pics'), ('funny', 'guns'), ('funny', 'reddit.com'), ('funny', 'WTF'), ('funny', 'politics'), ('funny', 'technology'), ('funny', 'programming'), ('funny', 'science'), ('funny', 'worldnews'), ('funny', 'canada'), ('funny', 'offbeat'), ('funny', 'geek'), ('funny', 'scifi'), ('funny', 'videos'), ('funny', 'business'), ('funny', 'environment'), ('funny', 'history'), ('funny', 'linux'), ('funny', 'AskReddit'), ('funny', 'bestof'), ('funny', 'netsec'), ('funny', 'atheism'), ('funny', 'obama'), ('funny', 'Economics'), ('funny', 'software'), ('funny', 'news'), ('funny', 'photography'), ('funny', 'math'), ('funny', 'cogsci'), ('funny', 'philosophy'), ('funny', 'joel'), ('funny', 'ideas'), ('guns', 'nsfw'), ('guns', 'gaming'), ('guns', 'entertainment'), ('guns', 'gadgets'), ('guns', 'Health'), ('guns', 'pics'), ('guns', 'obama'), ('guns', 'reddit.com'), ('guns', 'videos'), ('guns', 'geek'), ('guns', 'technology'), ('guns', 'WTF'), ('guns', 'science'), ('guns', 'offbeat'), ('guns', 'worldnews'), ('guns', 'Economics'), ('guns', 'AskReddit'), ('guns', 'programming'), ('guns', 'politics'), ('guns', 'cogsci'), ('guns', 'business'), ('guns', 'photography'), ('guns', 'software'), ('guns', 'news'), ('guns', 'philosophy'), ('guns', 'linux'), ('guns', 'environment'), ('guns', 'math'), ('guns', 'scifi'), ('guns', 'history'), ('guns', 'bestof'), ('guns', 'atheism'), ('guns', 'canada'), ('guns', 'netsec'), ('guns', 'ideas'), ('guns', 'joel'), ('joel', 'nsfw'), ('joel', 'gaming'), ('joel', 'entertainment'), ('joel', 'gadgets'), ('joel', 'Health'), ('joel', 'pics'), ('joel', 'linux'), ('joel', 'programming'), ('joel', 'ideas'), ('joel', 'reddit.com'), ('joel', 'business'), ('joel', 'politics'), ('joel', 'technology'), ('joel', 'science'), ('joel', 'worldnews'), ('joel', 'geek'), ('joel', 'obama'), ('joel', 'philosophy'), ('joel', 'scifi'), ('joel', 'atheism'), ('joel', 'WTF'), ('joel', 'Economics'), ('joel', 'environment'), ('joel', 'videos'), ('joel', 'AskReddit'), ('joel', 'history'), ('joel', 'offbeat'), ('joel', 'cogsci'), ('joel', 'bestof'), ('joel', 'math'), ('joel', 'software'), ('joel', 'photography'), ('joel', 'netsec'), ('joel', 'news'), ('joel', 'canada'), ('Economics', 'nsfw'), ('Economics', 'gaming'), ('Economics', 'entertainment'), ('Economics', 'gadgets'), ('Economics', 'Health'), ('Economics', 'pics'), ('Economics', 'linux'), ('Economics', 'programming'), ('Economics', 'ideas'), ('Economics', 'reddit.com'), ('Economics', 'videos'), ('Economics', 'business'), ('Economics', 'history'), ('Economics', 'science'), ('Economics', 'obama'), ('Economics', 'philosophy'), ('Economics', 'photography'), ('Economics', 'software'), ('Economics', 'AskReddit'), ('Economics', 'cogsci'), ('Economics', 'math'), ('Economics', 'technology'), ('Economics', 'politics'), ('Economics', 'atheism'), ('Economics', 'bestof'), ('Economics', 'scifi'), ('Economics', 'news'), ('Economics', 'environment'), ('Economics', 'geek'), ('Economics', 'WTF'), ('Economics', 'netsec'), ('Economics', 'worldnews'), ('Economics', 'offbeat'), ('Economics', 'canada'), ('business', 'nsfw'), ('business', 'gaming'), ('business', 'entertainment'), ('business', 'gadgets'), ('business', 'Health'), ('business', 'pics'), ('business', 'linux'), ('business', 'programming'), ('business', 'ideas'), ('business', 'reddit.com'), ('business', 'videos'), ('business', 'politics'), ('business', 'offbeat'), ('business', 'technology'), ('business', 'geek'), ('business', 'scifi'), ('business', 'science'), ('business', 'WTF'), ('business', 'worldnews'), ('business', 'environment'), ('business', 'history'), ('business', 'AskReddit'), ('business', 'bestof'), ('business', 'netsec'), ('business', 'obama'), ('business', 'atheism'), ('business', 'software'), ('business', 'news'), ('business', 'photography'), ('business', 'math'), ('business', 'cogsci'), ('business', 'philosophy'), ('business', 'canada'), ('entertainment', 'nsfw'), ('entertainment', 'gaming'), ('entertainment', 'reddit.com'), ('entertainment', 'WTF'), ('entertainment', 'politics'), ('entertainment', 'pics'), ('entertainment', 'technology'), ('entertainment', 'programming'), ('entertainment', 'science'), ('entertainment', 'worldnews'), ('entertainment', 'canada'), ('entertainment', 'offbeat'), ('entertainment', 'geek'), ('entertainment', 'scifi'), ('entertainment', 'videos'), ('entertainment', 'Health'), ('entertainment', 'environment'), ('entertainment', 'history'), ('entertainment', 'linux'), ('entertainment', 'AskReddit'), ('entertainment', 'bestof'), ('entertainment', 'netsec'), ('entertainment', 'gadgets'), ('entertainment', 'obama'), ('entertainment', 'atheism'), ('entertainment', 'software'), ('entertainment', 'news'), ('entertainment', 'photography'), ('entertainment', 'math'), ('entertainment', 'cogsci'), ('entertainment', 'philosophy'), ('entertainment', 'ideas'), ('politics', 'nsfw'), ('politics', 'gaming'), ('politics', 'gadgets'), ('politics', 'Health'), ('politics', 'pics'), ('politics', 'linux'), ('politics', 'programming'), ('politics', 'ideas'), ('politics', 'reddit.com'), ('politics', 'videos'), ('politics', 'history'), ('politics', 'science'), ('politics', 'obama'), ('politics', 'philosophy'), ('politics', 'photography'), ('politics', 'software'), ('politics', 'AskReddit'), ('politics', 'cogsci'), ('politics', 'math'), ('politics', 'technology'), ('politics', 'WTF'), ('politics', 'worldnews'), ('politics', 'canada'), ('politics', 'offbeat'), ('politics', 'geek'), ('politics', 'scifi'), ('politics', 'environment'), ('politics', 'bestof'), ('politics', 'atheism'), ('politics', 'netsec'), ('politics', 'news'), ('videos', 'nsfw'), ('videos', 'gaming'), ('videos', 'gadgets'), ('videos', 'Health'), ('videos', 'pics'), ('videos', 'linux'), ('videos', 'programming'), ('videos', 'ideas'), ('videos', 'reddit.com'), ('videos', 'offbeat'), ('videos', 'technology'), ('videos', 'geek'), ('videos', 'scifi'), ('videos', 'science'), ('videos', 'WTF'), ('videos', 'worldnews'), ('videos', 'environment'), ('videos', 'history'), ('videos', 'AskReddit'), ('videos', 'bestof'), ('videos', 'netsec'), ('videos', 'obama'), ('videos', 'atheism'), ('videos', 'software'), ('videos', 'news'), ('videos', 'math'), ('videos', 'philosophy'), ('videos', 'photography'), ('videos', 'cogsci'), ('videos', 'canada'), ('photography', 'nsfw'), ('photography', 'gaming'), ('photography', 'gadgets'), ('photography', 'Health'), ('photography', 'pics'), ('photography', 'linux'), ('photography', 'programming'), ('photography', 'ideas'), ('photography', 'reddit.com'), ('photography', 'history'), ('photography', 'science'), ('photography', 'obama'), ('photography', 'philosophy'), ('photography', 'offbeat'), ('photography', 'worldnews'), ('photography', 'technology'), ('photography', 'atheism'), ('photography', 'WTF'), ('photography', 'scifi'), ('photography', 'math'), ('photography', 'AskReddit'), ('photography', 'news'), ('photography', 'geek'), ('photography', 'environment'), ('photography', 'cogsci'), ('photography', 'bestof'), ('photography', 'netsec'), ('photography', 'software'), ('photography', 'canada'), ('worldnews', 'nsfw'), ('worldnews', 'gaming'), ('worldnews', 'gadgets'), ('worldnews', 'Health'), ('worldnews', 'pics'), ('worldnews', 'linux'), ('worldnews', 'programming'), ('worldnews', 'ideas'), ('worldnews', 'reddit.com'), ('worldnews', 'history'), ('worldnews', 'science'), ('worldnews', 'obama'), ('worldnews', 'philosophy'), ('worldnews', 'software'), ('worldnews', 'AskReddit'), ('worldnews', 'cogsci'), ('worldnews', 'math'), ('worldnews', 'technology'), ('worldnews', 'atheism'), ('worldnews', 'bestof'), ('worldnews', 'scifi'), ('worldnews', 'news'), ('worldnews', 'environment'), ('worldnews', 'geek'), ('worldnews', 'WTF'), ('worldnews', 'netsec'), ('worldnews', 'canada'), ('worldnews', 'offbeat'), ('math', 'nsfw'), ('math', 'gaming'), ('math', 'gadgets'), ('math', 'Health'), ('math', 'pics'), ('math', 'linux'), ('math', 'programming'), ('math', 'ideas'), ('math', 'reddit.com'), ('math', 'history'), ('math', 'science'), ('math', 'obama'), ('math', 'philosophy'), ('math', 'software'), ('math', 'AskReddit'), ('math', 'cogsci'), ('math', 'offbeat'), ('math', 'technology'), ('math', 'atheism'), ('math', 'WTF'), ('math', 'scifi'), ('math', 'news'), ('math', 'geek'), ('math', 'environment'), ('math', 'bestof'), ('math', 'netsec'), ('math', 'canada'), ('reddit.com', 'nsfw'), ('reddit.com', 'gaming'), ('reddit.com', 'gadgets'), ('reddit.com', 'Health'), ('reddit.com', 'pics'), ('reddit.com', 'linux'), ('reddit.com', 'programming'), ('reddit.com', 'ideas'), ('reddit.com', 'WTF'), ('reddit.com', 'technology'), ('reddit.com', 'science'), ('reddit.com', 'canada'), ('reddit.com', 'atheism'), ('reddit.com', 'offbeat'), ('reddit.com', 'geek'), ('reddit.com', 'scifi'), ('reddit.com', 'environment'), ('reddit.com', 'history'), ('reddit.com', 'AskReddit'), ('reddit.com', 'bestof'), ('reddit.com', 'netsec'), ('reddit.com', 'obama'), ('reddit.com', 'software'), ('reddit.com', 'news'), ('reddit.com', 'cogsci'), ('reddit.com', 'philosophy'), ('philosophy', 'nsfw'), ('philosophy', 'gaming'), ('philosophy', 'gadgets'), ('philosophy', 'Health'), ('philosophy', 'pics'), ('philosophy', 'linux'), ('philosophy', 'programming'), ('philosophy', 'ideas'), ('philosophy', 'history'), ('philosophy', 'science'), ('philosophy', 'obama'), ('philosophy', 'technology'), ('philosophy', 'bestof'), ('philosophy', 'offbeat'), ('philosophy', 'news'), ('philosophy', 'geek'), ('philosophy', 'AskReddit'), ('philosophy', 'WTF'), ('philosophy', 'atheism'), ('philosophy', 'cogsci'), ('philosophy', 'environment'), ('philosophy', 'netsec'), ('philosophy', 'scifi'), ('philosophy', 'software'), ('philosophy', 'canada'), ('scifi', 'nsfw'), ('scifi', 'gaming'), ('scifi', 'gadgets'), ('scifi', 'Health'), ('scifi', 'pics'), ('scifi', 'linux'), ('scifi', 'programming'), ('scifi', 'ideas'), ('scifi', 'history'), ('scifi', 'science'), ('scifi', 'obama'), ('scifi', 'software'), ('scifi', 'AskReddit'), ('scifi', 'cogsci'), ('scifi', 'technology'), ('scifi', 'atheism'), ('scifi', 'bestof'), ('scifi', 'offbeat'), ('scifi', 'geek'), ('scifi', 'WTF'), ('scifi', 'environment'), ('scifi', 'netsec'), ('scifi', 'news'), ('scifi', 'canada'), ('WTF', 'nsfw'), ('WTF', 'gaming'), ('WTF', 'gadgets'), ('WTF', 'Health'), ('WTF', 'pics'), ('WTF', 'linux'), ('WTF', 'programming'), ('WTF', 'ideas'), ('WTF', 'history'), ('WTF', 'science'), ('WTF', 'obama'), ('WTF', 'software'), ('WTF', 'AskReddit'), ('WTF', 'cogsci'), ('WTF', 'technology'), ('WTF', 'atheism'), ('WTF', 'bestof'), ('WTF', 'news'), ('WTF', 'environment'), ('WTF', 'geek'), ('WTF', 'canada'), ('WTF', 'offbeat'), ('WTF', 'netsec'), ('linux', 'nsfw'), ('linux', 'gaming'), ('linux', 'gadgets'), ('linux', 'Health'), ('linux', 'pics'), ('linux', 'offbeat'), ('linux', 'technology'), ('linux', 'geek'), ('linux', 'programming'), ('linux', 'science'), ('linux', 'environment'), ('linux', 'history'), ('linux', 'AskReddit'), ('linux', 'bestof'), ('linux', 'netsec'), ('linux', 'obama'), ('linux', 'software'), ('linux', 'news'), ('linux', 'cogsci'), ('linux', 'atheism'), ('linux', 'canada'), ('linux', 'ideas'), ('atheism', 'nsfw'), ('atheism', 'gaming'), ('atheism', 'gadgets'), ('atheism', 'Health'), ('atheism', 'pics'), ('atheism', 'programming'), ('atheism', 'ideas'), ('atheism', 'history'), ('atheism', 'science'), ('atheism', 'obama'), ('atheism', 'software'), ('atheism', 'AskReddit'), ('atheism', 'cogsci'), ('atheism', 'technology'), ('atheism', 'offbeat'), ('atheism', 'news'), ('atheism', 'geek'), ('atheism', 'environment'), ('atheism', 'bestof'), ('atheism', 'netsec'), ('atheism', 'canada'), ('AskReddit', 'nsfw'), ('AskReddit', 'gaming'), ('AskReddit', 'gadgets'), ('AskReddit', 'Health'), ('AskReddit', 'pics'), ('AskReddit', 'programming'), ('AskReddit', 'ideas'), ('AskReddit', 'history'), ('AskReddit', 'science'), ('AskReddit', 'obama'), ('AskReddit', 'software'), ('AskReddit', 'offbeat'), ('AskReddit', 'technology'), ('AskReddit', 'geek'), ('AskReddit', 'environment'), ('AskReddit', 'bestof'), ('AskReddit', 'news'), ('AskReddit', 'cogsci'), ('AskReddit', 'netsec'), ('AskReddit', 'canada'), ('gaming', 'nsfw'), ('gaming', 'pics'), ('gaming', 'offbeat'), ('gaming', 'technology'), ('gaming', 'geek'), ('gaming', 'programming'), ('gaming', 'science'), ('gaming', 'Health'), ('gaming', 'environment'), ('gaming', 'history'), ('gaming', 'bestof'), ('gaming', 'obama'), ('gaming', 'netsec'), ('gaming', 'gadgets'), ('gaming', 'software'), ('gaming', 'news'), ('gaming', 'cogsci'), ('gaming', 'canada'), ('gaming', 'ideas'), ('canada', 'nsfw'), ('canada', 'gadgets'), ('canada', 'Health'), ('canada', 'pics'), ('canada', 'programming'), ('canada', 'ideas'), ('canada', 'history'), ('canada', 'science'), ('canada', 'obama'), ('canada', 'software'), ('canada', 'cogsci'), ('canada', 'technology'), ('canada', 'bestof'), ('canada', 'news'), ('canada', 'environment'), ('canada', 'geek'), ('canada', 'netsec'), ('canada', 'offbeat'), ('technology', 'nsfw'), ('technology', 'gadgets'), ('technology', 'Health'), ('technology', 'pics'), ('technology', 'programming'), ('technology', 'ideas'), ('technology', 'history'), ('technology', 'science'), ('technology', 'obama'), ('technology', 'software'), ('technology', 'cogsci'), ('technology', 'offbeat'), ('technology', 'geek'), ('technology', 'environment'), ('technology', 'bestof'), ('technology', 'netsec'), ('technology', 'news'), ('gadgets', 'nsfw'), ('gadgets', 'pics'), ('gadgets', 'programming'), ('gadgets', 'netsec'), ('gadgets', 'science'), ('gadgets', 'offbeat'), ('gadgets', 'geek'), ('gadgets', 'environment'), ('gadgets', 'Health'), ('gadgets', 'obama'), ('gadgets', 'software'), ('gadgets', 'news'), ('gadgets', 'cogsci'), ('gadgets', 'bestof'), ('gadgets', 'history'), ('gadgets', 'ideas'), ('netsec', 'nsfw'), ('netsec', 'Health'), ('netsec', 'pics'), ('netsec', 'programming'), ('netsec', 'ideas'), ('netsec', 'history'), ('netsec', 'science'), ('netsec', 'obama'), ('netsec', 'software'), ('netsec', 'cogsci'), ('netsec', 'bestof'), ('netsec', 'news'), ('netsec', 'environment'), ('netsec', 'geek'), ('netsec', 'offbeat'), ('news', 'nsfw'), ('news', 'Health'), ('news', 'pics'), ('news', 'programming'), ('news', 'ideas'), ('news', 'history'), ('news', 'science'), ('news', 'obama'), ('news', 'software'), ('news', 'cogsci'), ('news', 'bestof'), ('news', 'offbeat'), ('news', 'geek'), ('news', 'environment'), ('ideas', 'nsfw'), ('ideas', 'Health'), ('ideas', 'pics'), ('ideas', 'programming'), ('ideas', 'science'), ('ideas', 'obama'), ('ideas', 'history'), ('ideas', 'bestof'), ('ideas', 'cogsci'), ('ideas', 'offbeat'), ('ideas', 'geek'), ('ideas', 'environment'), ('ideas', 'software'), ('pics', 'nsfw'), ('pics', 'Health'), ('pics', 'programming'), ('pics', 'science'), ('pics', 'offbeat'), ('pics', 'geek'), ('pics', 'environment'), ('pics', 'history'), ('pics', 'bestof'), ('pics', 'obama'), ('pics', 'software'), ('pics', 'cogsci'), ('software', 'nsfw'), ('software', 'Health'), ('software', 'programming'), ('software', 'history'), ('software', 'science'), ('software', 'obama'), ('software', 'offbeat'), ('software', 'geek'), ('software', 'environment'), ('software', 'cogsci'), ('software', 'bestof'), ('cogsci', 'nsfw'), ('cogsci', 'Health'), ('cogsci', 'programming'), ('cogsci', 'history'), ('cogsci', 'science'), ('cogsci', 'obama'), ('cogsci', 'offbeat'), ('cogsci', 'geek'), ('cogsci', 'environment'), ('cogsci', 'bestof'), ('environment', 'nsfw'), ('environment', 'Health'), ('environment', 'programming'), ('environment', 'history'), ('environment', 'science'), ('environment', 'obama'), ('environment', 'bestof'), ('environment', 'offbeat'), ('environment', 'geek'), ('geek', 'nsfw'), ('geek', 'Health'), ('geek', 'programming'), ('geek', 'history'), ('geek', 'science'), ('geek', 'obama'), ('geek', 'bestof'), ('geek', 'offbeat'), ('offbeat', 'nsfw'), ('offbeat', 'Health'), ('offbeat', 'programming'), ('offbeat', 'history'), ('offbeat', 'science'), ('offbeat', 'obama'), ('offbeat', 'bestof'), ('bestof', 'nsfw'), ('bestof', 'Health'), ('bestof', 'programming'), ('bestof', 'history'), ('bestof', 'science'), ('bestof', 'obama'), ('science', 'nsfw'), ('science', 'Health'), ('science', 'programming'), ('science', 'history'), ('science', 'obama'), ('Health', 'nsfw'), ('Health', 'programming'), ('Health', 'history'), ('Health', 'obama'), ('history', 'nsfw'), ('history', 'programming'), ('history', 'obama'), ('nsfw', 'programming'), ('nsfw', 'obama'), ('obama', 'programming')])"
      ]
     },
     "execution_count": 8,
     "metadata": {},
     "output_type": "execute_result"
    }
   ],
   "source": [
    "snet_t.edges()"
   ]
  },
  {
   "cell_type": "markdown",
   "id": "2edbe00a",
   "metadata": {},
   "source": [
    "### 12 -  asortativna analiza\n"
   ]
  },
  {
   "cell_type": "code",
   "execution_count": 10,
   "id": "adefd162",
   "metadata": {},
   "outputs": [
    {
     "name": "stdout",
     "output_type": "stream",
     "text": [
      "Koeficijent asortativnosti na osnovu netežinskog stepena čvora: nan\n"
     ]
    },
    {
     "name": "stderr",
     "output_type": "stream",
     "text": [
      "C:\\Users\\Nikola\\anaconda3\\lib\\site-packages\\networkx\\algorithms\\assortativity\\correlation.py:298: RuntimeWarning: invalid value encountered in double_scalars\n",
      "  return (xy * (M - ab)).sum() / np.sqrt(vara * varb)\n"
     ]
    },
    {
     "data": {
      "image/png": "[encoded data removed]",
      "text/plain": [
       "<Figure size 432x288 with 1 Axes>"
      ]
     },
     "metadata": {
      "needs_background": "light"
     },
     "output_type": "display_data"
    }
   ],
   "source": [
    "r1 = nx.degree_assortativity_coefficient(snet_t)\n",
    "print(f\"Koeficijent asortativnosti na osnovu netežinskog stepena čvora: {r1}\")\n",
    "\n",
    "def plot_deg_corr(g, xscale = \"linear\", yscale = \"linear\"):\n",
    "    first = []\n",
    "    second = []\n",
    "    for i, k in g.edges():\n",
    "        first.append(g.degree(i))\n",
    "        first.append(g.degree(k))\n",
    "        second.append(g.degree(i))\n",
    "        second.append(g.degree(k))\n",
    "\n",
    "    plt.figure(1)   \n",
    "\n",
    "    plt.xlabel('degree')                                                                                                             \n",
    "    plt.xscale(xscale)                                                                                                                \n",
    "    plt.xlim(1, max(first)) \n",
    "\n",
    "    plt.ylabel('degree')                                                                                                          \n",
    "    plt.yscale(yscale)                                                                                                                \n",
    "    plt.ylim(1, max(second))                                                                                                             \n",
    "\n",
    "    plt.scatter(first, second, marker='.')                                                                                                    \n",
    "    plt.show()\n",
    "\n",
    "plot_deg_corr(snet_t)"
   ]
  },
  {
   "cell_type": "markdown",
   "id": "f03b8b2e",
   "metadata": {},
   "source": [
    "### 13 - Klub bogatih\n"
   ]
  },
  {
   "cell_type": "markdown",
   "id": "adfa12ba",
   "metadata": {},
   "source": [
    "Mreza je potpuno povezana tako da ne zadovoljava uslov kluba bogatih"
   ]
  },
  {
   "cell_type": "markdown",
   "id": "c3a21cec",
   "metadata": {},
   "source": [
    "### 14 - Power Law\n"
   ]
  },
  {
   "cell_type": "code",
   "execution_count": 11,
   "id": "7891f234",
   "metadata": {},
   "outputs": [],
   "source": [
    "from collections import Counter\n",
    "from operator import itemgetter\n",
    "\n",
    "def plot_deg_frequency(G, weighted = False, xscale = \"log\", yscale = \"log\"):\n",
    "\n",
    "    if weighted:\n",
    "        degrees = G.degree(weight=\"weight\")\n",
    "    else:\n",
    "        degrees = G.degree()\n",
    "        \n",
    "    _, deg_list = zip(*degrees)\n",
    "    deg_counts = Counter(deg_list)        \n",
    "    print(deg_counts)\n",
    "    x, y = zip(*deg_counts.items())                                                      \n",
    "\n",
    "    plt.figure(1)   \n",
    "\n",
    "    # prep axes   \n",
    "    if weighted:\n",
    "        plt.xlabel('weighted degree')  \n",
    "    else:\n",
    "        plt.xlabel('degree')                                                                                                             \n",
    "    plt.xscale(xscale)                                                                                                                \n",
    "    plt.xlim(1, max(x))  \n",
    "\n",
    "    plt.ylabel('frequency')                                                                                                          \n",
    "    plt.yscale(yscale)                                                                                                                \n",
    "    plt.ylim(1, max(y))                                                                                                             \n",
    "                                                                                                                                                                                                    \n",
    "    plt.scatter(x, y, marker='.')                                                                                                    \n",
    "    plt.show()"
   ]
  },
  {
   "cell_type": "code",
   "execution_count": 12,
   "id": "ac4dbda6",
   "metadata": {},
   "outputs": [
    {
     "name": "stdout",
     "output_type": "stream",
     "text": [
      "Counter({38: 39})\n"
     ]
    },
    {
     "data": {
      "image/png": "[encoded data removed]",
      "text/plain": [
       "<Figure size 432x288 with 1 Axes>"
      ]
     },
     "metadata": {
      "needs_background": "light"
     },
     "output_type": "display_data"
    }
   ],
   "source": [
    "plot_deg_frequency(snet_t)"
   ]
  },
  {
   "cell_type": "code",
   "execution_count": 13,
   "id": "e1f45fd8",
   "metadata": {},
   "outputs": [
    {
     "name": "stdout",
     "output_type": "stream",
     "text": [
      "Calculating best minimal value for power law fit\n",
      "<powerlaw.Fit object at 0x00000198BEBA3490>\n"
     ]
    },
    {
     "name": "stderr",
     "output_type": "stream",
     "text": [
      "Less than 2 unique data values left after xmin and xmax options! Cannot fit. Returning nans.\n"
     ]
    },
    {
     "data": {
      "text/plain": [
       "{'power_law': powerlaw.Power_Law,\n",
       " 'lognormal': powerlaw.Lognormal,\n",
       " 'exponential': powerlaw.Exponential,\n",
       " 'truncated_power_law': powerlaw.Truncated_Power_Law,\n",
       " 'stretched_exponential': powerlaw.Stretched_Exponential,\n",
       " 'lognormal_positive': powerlaw.Lognormal_Positive}"
      ]
     },
     "execution_count": 13,
     "metadata": {},
     "output_type": "execute_result"
    }
   ],
   "source": [
    "import powerlaw\n",
    "degree_sequence = sorted([d for n, d in snet_t.degree()], reverse=True)\n",
    "results = powerlaw.Fit(degree_sequence)\n",
    "print(results)\n",
    "results.supported_distributions"
   ]
  },
  {
   "cell_type": "code",
   "execution_count": 14,
   "id": "fde9f370",
   "metadata": {},
   "outputs": [
    {
     "name": "stderr",
     "output_type": "stream",
     "text": [
      "C:\\Users\\Nikola\\anaconda3\\lib\\site-packages\\powerlaw.py:1151: RuntimeWarning: invalid value encountered in double_scalars\n",
      "  self.alpha = 1 + (self.n / sum(log(data/self.xmin)))\n"
     ]
    },
    {
     "name": "stdout",
     "output_type": "stream",
     "text": [
      "Loglikelihood ratio: 0\n",
      "Statistical significance: 1\n",
      "Loglikelihood ratio: 0\n",
      "Statistical significance: 1\n"
     ]
    },
    {
     "name": "stderr",
     "output_type": "stream",
     "text": [
      "C:\\Users\\Nikola\\anaconda3\\lib\\site-packages\\powerlaw.py:1170: RuntimeWarning: invalid value encountered in double_scalars\n",
      "  return 1 + len(data)/sum(log(data / (self.xmin)))\n",
      "Not enough data. Returning nan\n",
      "Not enough data. Returning nan\n",
      "C:\\Users\\Nikola\\anaconda3\\lib\\site-packages\\numpy\\core\\fromnumeric.py:3440: RuntimeWarning: Mean of empty slice.\n",
      "  return _methods._mean(a, axis=axis, dtype=dtype,\n",
      "C:\\Users\\Nikola\\anaconda3\\lib\\site-packages\\numpy\\core\\_methods.py:189: RuntimeWarning: invalid value encountered in double_scalars\n",
      "  ret = ret.dtype.type(ret / rcount)\n",
      "No valid fits found.\n",
      "Not enough data. Returning nan\n",
      "Assuming nested distributions\n",
      "C:\\Users\\Nikola\\anaconda3\\lib\\site-packages\\powerlaw.py:1383: RuntimeWarning: invalid value encountered in double_scalars\n",
      "  alpha = 1 + len(data)/sum( log( data / (self.xmin) ))\n",
      "No valid fits found.\n",
      "Not enough data. Returning nan\n"
     ]
    }
   ],
   "source": [
    "\n",
    "R, p = results.distribution_compare('power_law', 'exponential')\n",
    "print(f\"Loglikelihood ratio: {R}\")\n",
    "print(f\"Statistical significance: {p}\")\n",
    "R, p = results.distribution_compare('power_law', 'truncated_power_law')\n",
    "print(f\"Loglikelihood ratio: {R}\")\n",
    "print(f\"Statistical significance: {p}\")"
   ]
  },
  {
   "cell_type": "markdown",
   "id": "2e4f9d5f",
   "metadata": {},
   "source": [
    "Pošto je p-value za prvi slučaj značajno manje od 0.05, power law mnogo bolje fituje od eksponencijalne raspodele"
   ]
  },
  {
   "cell_type": "markdown",
   "id": "2720ce72",
   "metadata": {},
   "source": [
    "### 15 -  Habovi i autoriteti"
   ]
  },
  {
   "cell_type": "markdown",
   "id": "6092c58a",
   "metadata": {},
   "source": [
    "Posto je graf neusmeren, nakon pokretanja analize u alatu Gephi, klikom na dugmee \"HITS\", vidimo da su rezultati za habove i autoritete isti. "
   ]
  },
  {
   "cell_type": "markdown",
   "id": "8beec141",
   "metadata": {},
   "source": [
    "### 16 - centralnosti"
   ]
  },
  {
   "cell_type": "code",
   "execution_count": 15,
   "id": "989077ed",
   "metadata": {},
   "outputs": [],
   "source": [
    "def calculate_centralities(G):\n",
    "\n",
    "    DC_dict = nx.degree_centrality(G)\n",
    "    CC_dict = nx.closeness_centrality(G)\n",
    "    BC_dict = nx.betweenness_centrality(G)\n",
    "    EVC_dict = nx.eigenvector_centrality(G, weight='weight')\n",
    "\n",
    "    df1 = pd.DataFrame.from_dict(DC_dict, orient='index', columns=['DC'])\n",
    "    df2 = pd.DataFrame.from_dict(CC_dict, orient='index', columns=['CC'])\n",
    "    df3 = pd.DataFrame.from_dict(BC_dict, orient='index', columns=['BC'])\n",
    "    df4 = pd.DataFrame.from_dict(EVC_dict, orient='index', columns=['EVC'])\n",
    "    df = pd.concat([df1, df2, df3, df4], axis=1)\n",
    "    return df"
   ]
  },
  {
   "cell_type": "code",
   "execution_count": 16,
   "id": "c45d82d5",
   "metadata": {},
   "outputs": [],
   "source": [
    "data_cent = calculate_centralities(snet_t)"
   ]
  },
  {
   "cell_type": "markdown",
   "id": "180063a1",
   "metadata": {},
   "source": [
    "### Po Bliskosti"
   ]
  },
  {
   "cell_type": "code",
   "execution_count": 17,
   "id": "8145183f",
   "metadata": {},
   "outputs": [
    {
     "data": {
      "text/html": [
       "<div>\n",
       "<style scoped>\n",
       "    .dataframe tbody tr th:only-of-type {\n",
       "        vertical-align: middle;\n",
       "    }\n",
       "\n",
       "    .dataframe tbody tr th {\n",
       "        vertical-align: top;\n",
       "    }\n",
       "\n",
       "    .dataframe thead th {\n",
       "        text-align: right;\n",
       "    }\n",
       "</style>\n",
       "<table border=\"1\" class=\"dataframe\">\n",
       "  <thead>\n",
       "    <tr style=\"text-align: right;\">\n",
       "      <th></th>\n",
       "      <th>CC</th>\n",
       "    </tr>\n",
       "  </thead>\n",
       "  <tbody>\n",
       "    <tr>\n",
       "      <th>comics</th>\n",
       "      <td>1.0</td>\n",
       "    </tr>\n",
       "    <tr>\n",
       "      <th>funny</th>\n",
       "      <td>1.0</td>\n",
       "    </tr>\n",
       "    <tr>\n",
       "      <th>guns</th>\n",
       "      <td>1.0</td>\n",
       "    </tr>\n",
       "    <tr>\n",
       "      <th>joel</th>\n",
       "      <td>1.0</td>\n",
       "    </tr>\n",
       "    <tr>\n",
       "      <th>Economics</th>\n",
       "      <td>1.0</td>\n",
       "    </tr>\n",
       "  </tbody>\n",
       "</table>\n",
       "</div>"
      ],
      "text/plain": [
       "            CC\n",
       "comics     1.0\n",
       "funny      1.0\n",
       "guns       1.0\n",
       "joel       1.0\n",
       "Economics  1.0"
      ]
     },
     "execution_count": 17,
     "metadata": {},
     "output_type": "execute_result"
    }
   ],
   "source": [
    "df_cc = pd.DataFrame({'CC':data_cent['CC']})\n",
    "\n",
    "df_cc.nlargest(5, 'CC')"
   ]
  },
  {
   "cell_type": "markdown",
   "id": "39e7a726",
   "metadata": {},
   "source": [
    "### Po Stepenu"
   ]
  },
  {
   "cell_type": "code",
   "execution_count": 34,
   "id": "f5b8b5e5",
   "metadata": {},
   "outputs": [
    {
     "data": {
      "text/html": [
       "<div>\n",
       "<style scoped>\n",
       "    .dataframe tbody tr th:only-of-type {\n",
       "        vertical-align: middle;\n",
       "    }\n",
       "\n",
       "    .dataframe tbody tr th {\n",
       "        vertical-align: top;\n",
       "    }\n",
       "\n",
       "    .dataframe thead th {\n",
       "        text-align: right;\n",
       "    }\n",
       "</style>\n",
       "<table border=\"1\" class=\"dataframe\">\n",
       "  <thead>\n",
       "    <tr style=\"text-align: right;\">\n",
       "      <th></th>\n",
       "      <th>DC</th>\n",
       "    </tr>\n",
       "  </thead>\n",
       "  <tbody>\n",
       "    <tr>\n",
       "      <th>comics</th>\n",
       "      <td>1.0</td>\n",
       "    </tr>\n",
       "    <tr>\n",
       "      <th>funny</th>\n",
       "      <td>1.0</td>\n",
       "    </tr>\n",
       "    <tr>\n",
       "      <th>guns</th>\n",
       "      <td>1.0</td>\n",
       "    </tr>\n",
       "    <tr>\n",
       "      <th>joel</th>\n",
       "      <td>1.0</td>\n",
       "    </tr>\n",
       "    <tr>\n",
       "      <th>Economics</th>\n",
       "      <td>1.0</td>\n",
       "    </tr>\n",
       "  </tbody>\n",
       "</table>\n",
       "</div>"
      ],
      "text/plain": [
       "            DC\n",
       "comics     1.0\n",
       "funny      1.0\n",
       "guns       1.0\n",
       "joel       1.0\n",
       "Economics  1.0"
      ]
     },
     "execution_count": 34,
     "metadata": {},
     "output_type": "execute_result"
    }
   ],
   "source": [
    "df_dc = pd.DataFrame({'DC':data_cent['DC']})\n",
    "df_dc.nlargest(5, 'DC')"
   ]
  },
  {
   "cell_type": "markdown",
   "id": "643810f3",
   "metadata": {},
   "source": [
    "### Relaciona"
   ]
  },
  {
   "cell_type": "code",
   "execution_count": 19,
   "id": "f0d13402",
   "metadata": {},
   "outputs": [
    {
     "data": {
      "text/html": [
       "<div>\n",
       "<style scoped>\n",
       "    .dataframe tbody tr th:only-of-type {\n",
       "        vertical-align: middle;\n",
       "    }\n",
       "\n",
       "    .dataframe tbody tr th {\n",
       "        vertical-align: top;\n",
       "    }\n",
       "\n",
       "    .dataframe thead th {\n",
       "        text-align: right;\n",
       "    }\n",
       "</style>\n",
       "<table border=\"1\" class=\"dataframe\">\n",
       "  <thead>\n",
       "    <tr style=\"text-align: right;\">\n",
       "      <th></th>\n",
       "      <th>BC</th>\n",
       "    </tr>\n",
       "  </thead>\n",
       "  <tbody>\n",
       "    <tr>\n",
       "      <th>comics</th>\n",
       "      <td>0.0</td>\n",
       "    </tr>\n",
       "    <tr>\n",
       "      <th>funny</th>\n",
       "      <td>0.0</td>\n",
       "    </tr>\n",
       "    <tr>\n",
       "      <th>guns</th>\n",
       "      <td>0.0</td>\n",
       "    </tr>\n",
       "    <tr>\n",
       "      <th>joel</th>\n",
       "      <td>0.0</td>\n",
       "    </tr>\n",
       "    <tr>\n",
       "      <th>Economics</th>\n",
       "      <td>0.0</td>\n",
       "    </tr>\n",
       "  </tbody>\n",
       "</table>\n",
       "</div>"
      ],
      "text/plain": [
       "            BC\n",
       "comics     0.0\n",
       "funny      0.0\n",
       "guns       0.0\n",
       "joel       0.0\n",
       "Economics  0.0"
      ]
     },
     "execution_count": 19,
     "metadata": {},
     "output_type": "execute_result"
    }
   ],
   "source": [
    "df_dc = pd.DataFrame({'BC':data_cent['BC']})\n",
    "df_dc.nlargest(5, 'BC')"
   ]
  },
  {
   "cell_type": "markdown",
   "id": "116ea08f",
   "metadata": {},
   "source": [
    "### 17 - Po Sopstvenom vekotru"
   ]
  },
  {
   "cell_type": "code",
   "execution_count": 20,
   "id": "7d325ae3",
   "metadata": {},
   "outputs": [
    {
     "data": {
      "text/html": [
       "<div>\n",
       "<style scoped>\n",
       "    .dataframe tbody tr th:only-of-type {\n",
       "        vertical-align: middle;\n",
       "    }\n",
       "\n",
       "    .dataframe tbody tr th {\n",
       "        vertical-align: top;\n",
       "    }\n",
       "\n",
       "    .dataframe thead th {\n",
       "        text-align: right;\n",
       "    }\n",
       "</style>\n",
       "<table border=\"1\" class=\"dataframe\">\n",
       "  <thead>\n",
       "    <tr style=\"text-align: right;\">\n",
       "      <th></th>\n",
       "      <th>EVC</th>\n",
       "    </tr>\n",
       "  </thead>\n",
       "  <tbody>\n",
       "    <tr>\n",
       "      <th>reddit.com</th>\n",
       "      <td>0.379795</td>\n",
       "    </tr>\n",
       "    <tr>\n",
       "      <th>politics</th>\n",
       "      <td>0.316792</td>\n",
       "    </tr>\n",
       "    <tr>\n",
       "      <th>pics</th>\n",
       "      <td>0.295384</td>\n",
       "    </tr>\n",
       "    <tr>\n",
       "      <th>funny</th>\n",
       "      <td>0.282877</td>\n",
       "    </tr>\n",
       "    <tr>\n",
       "      <th>science</th>\n",
       "      <td>0.276318</td>\n",
       "    </tr>\n",
       "  </tbody>\n",
       "</table>\n",
       "</div>"
      ],
      "text/plain": [
       "                 EVC\n",
       "reddit.com  0.379795\n",
       "politics    0.316792\n",
       "pics        0.295384\n",
       "funny       0.282877\n",
       "science     0.276318"
      ]
     },
     "execution_count": 20,
     "metadata": {},
     "output_type": "execute_result"
    }
   ],
   "source": [
    "df_dc = pd.DataFrame({'EVC':data_cent['EVC']})\n",
    "df_dc.nlargest(5, 'EVC')"
   ]
  },
  {
   "cell_type": "markdown",
   "id": "2664189b",
   "metadata": {},
   "source": [
    "### 18 - Katz-ova skala"
   ]
  },
  {
   "cell_type": "code",
   "execution_count": 21,
   "id": "cf15baf0",
   "metadata": {},
   "outputs": [
    {
     "name": "stderr",
     "output_type": "stream",
     "text": [
      "C:\\Users\\Nikola\\anaconda3\\lib\\site-packages\\networkx\\linalg\\spectrum.py:110: FutureWarning: adjacency_matrix will return a scipy.sparse array instead of a matrix in Networkx 3.0.\n",
      "  return sp.linalg.eigvals(nx.adjacency_matrix(G, weight=weight).todense())\n"
     ]
    },
    {
     "name": "stdout",
     "output_type": "stream",
     "text": [
      "(5.451925984405703e-06+0j)\n"
     ]
    }
   ],
   "source": [
    "import scipy.stats as stats\n",
    "lambda_max =  max(nx.adjacency_spectrum(G))\n",
    "print(1/lambda_max)"
   ]
  },
  {
   "cell_type": "code",
   "execution_count": 22,
   "id": "5b7b1a38",
   "metadata": {},
   "outputs": [
    {
     "data": {
      "text/html": [
       "<div>\n",
       "<style scoped>\n",
       "    .dataframe tbody tr th:only-of-type {\n",
       "        vertical-align: middle;\n",
       "    }\n",
       "\n",
       "    .dataframe tbody tr th {\n",
       "        vertical-align: top;\n",
       "    }\n",
       "\n",
       "    .dataframe thead th {\n",
       "        text-align: right;\n",
       "    }\n",
       "</style>\n",
       "<table border=\"1\" class=\"dataframe\">\n",
       "  <thead>\n",
       "    <tr style=\"text-align: right;\">\n",
       "      <th></th>\n",
       "      <th>KC</th>\n",
       "    </tr>\n",
       "  </thead>\n",
       "  <tbody>\n",
       "    <tr>\n",
       "      <th>reddit.com</th>\n",
       "      <td>0.280776</td>\n",
       "    </tr>\n",
       "    <tr>\n",
       "      <th>politics</th>\n",
       "      <td>0.247758</td>\n",
       "    </tr>\n",
       "    <tr>\n",
       "      <th>pics</th>\n",
       "      <td>0.237753</td>\n",
       "    </tr>\n",
       "    <tr>\n",
       "      <th>funny</th>\n",
       "      <td>0.231434</td>\n",
       "    </tr>\n",
       "    <tr>\n",
       "      <th>science</th>\n",
       "      <td>0.228515</td>\n",
       "    </tr>\n",
       "    <tr>\n",
       "      <th>technology</th>\n",
       "      <td>0.223660</td>\n",
       "    </tr>\n",
       "    <tr>\n",
       "      <th>worldnews</th>\n",
       "      <td>0.220880</td>\n",
       "    </tr>\n",
       "    <tr>\n",
       "      <th>WTF</th>\n",
       "      <td>0.220452</td>\n",
       "    </tr>\n",
       "    <tr>\n",
       "      <th>entertainment</th>\n",
       "      <td>0.214771</td>\n",
       "    </tr>\n",
       "    <tr>\n",
       "      <th>programming</th>\n",
       "      <td>0.201766</td>\n",
       "    </tr>\n",
       "  </tbody>\n",
       "</table>\n",
       "</div>"
      ],
      "text/plain": [
       "                     KC\n",
       "reddit.com     0.280776\n",
       "politics       0.247758\n",
       "pics           0.237753\n",
       "funny          0.231434\n",
       "science        0.228515\n",
       "technology     0.223660\n",
       "worldnews      0.220880\n",
       "WTF            0.220452\n",
       "entertainment  0.214771\n",
       "programming    0.201766"
      ]
     },
     "execution_count": 22,
     "metadata": {},
     "output_type": "execute_result"
    }
   ],
   "source": [
    "KatzC_dict = nx.katz_centrality(snet_t, alpha=3e-06, beta=1.0, max_iter=1000, tol=1e-06, nstart=None, normalized=True, weight='weight')\n",
    "df_katzc = pd.DataFrame.from_dict(KatzC_dict, orient='index', columns=['KC'])\n",
    "df_katzc.nlargest(10, 'KC')"
   ]
  },
  {
   "cell_type": "code",
   "execution_count": 15,
   "id": "9a0c387d",
   "metadata": {},
   "outputs": [
    {
     "data": {
      "text/html": [
       "<div>\n",
       "<style scoped>\n",
       "    .dataframe tbody tr th:only-of-type {\n",
       "        vertical-align: middle;\n",
       "    }\n",
       "\n",
       "    .dataframe tbody tr th {\n",
       "        vertical-align: top;\n",
       "    }\n",
       "\n",
       "    .dataframe thead th {\n",
       "        text-align: right;\n",
       "    }\n",
       "</style>\n",
       "<table border=\"1\" class=\"dataframe\">\n",
       "  <thead>\n",
       "    <tr style=\"text-align: right;\">\n",
       "      <th></th>\n",
       "      <th>KC</th>\n",
       "    </tr>\n",
       "  </thead>\n",
       "  <tbody>\n",
       "    <tr>\n",
       "      <th>reddit.com</th>\n",
       "      <td>0.675190</td>\n",
       "    </tr>\n",
       "    <tr>\n",
       "      <th>politics</th>\n",
       "      <td>0.217312</td>\n",
       "    </tr>\n",
       "    <tr>\n",
       "      <th>pics</th>\n",
       "      <td>0.201968</td>\n",
       "    </tr>\n",
       "    <tr>\n",
       "      <th>funny</th>\n",
       "      <td>0.194961</td>\n",
       "    </tr>\n",
       "    <tr>\n",
       "      <th>science</th>\n",
       "      <td>0.191444</td>\n",
       "    </tr>\n",
       "    <tr>\n",
       "      <th>technology</th>\n",
       "      <td>0.188175</td>\n",
       "    </tr>\n",
       "    <tr>\n",
       "      <th>worldnews</th>\n",
       "      <td>0.183828</td>\n",
       "    </tr>\n",
       "    <tr>\n",
       "      <th>WTF</th>\n",
       "      <td>0.182372</td>\n",
       "    </tr>\n",
       "    <tr>\n",
       "      <th>entertainment</th>\n",
       "      <td>0.179482</td>\n",
       "    </tr>\n",
       "    <tr>\n",
       "      <th>business</th>\n",
       "      <td>0.165517</td>\n",
       "    </tr>\n",
       "  </tbody>\n",
       "</table>\n",
       "</div>"
      ],
      "text/plain": [
       "                     KC\n",
       "reddit.com     0.675190\n",
       "politics       0.217312\n",
       "pics           0.201968\n",
       "funny          0.194961\n",
       "science        0.191444\n",
       "technology     0.188175\n",
       "worldnews      0.183828\n",
       "WTF            0.182372\n",
       "entertainment  0.179482\n",
       "business       0.165517"
      ]
     },
     "execution_count": 15,
     "metadata": {},
     "output_type": "execute_result"
    }
   ],
   "source": [
    "l = {}\n",
    "for i in snet_t.nodes():\n",
    "    l[i] = 0.1\n",
    "l['reddit.com'] = 1 \n",
    "\n",
    "KatzC_dict = nx.katz_centrality(snet_t, alpha=3e-06, beta=l, max_iter=1000, tol=1e-06, nstart=None, normalized=True, weight='weight')\n",
    "df_katzc = pd.DataFrame.from_dict(KatzC_dict, orient='index', columns=['KC'])\n",
    "df_katzc.nlargest(10, 'KC')"
   ]
  },
  {
   "cell_type": "markdown",
   "id": "924e6621",
   "metadata": {},
   "source": [
    "### 19 - kompozitni rank"
   ]
  },
  {
   "cell_type": "code",
   "execution_count": 23,
   "id": "8bfec139",
   "metadata": {},
   "outputs": [
    {
     "data": {
      "text/html": [
       "<div>\n",
       "<style scoped>\n",
       "    .dataframe tbody tr th:only-of-type {\n",
       "        vertical-align: middle;\n",
       "    }\n",
       "\n",
       "    .dataframe tbody tr th {\n",
       "        vertical-align: top;\n",
       "    }\n",
       "\n",
       "    .dataframe thead th {\n",
       "        text-align: right;\n",
       "    }\n",
       "</style>\n",
       "<table border=\"1\" class=\"dataframe\">\n",
       "  <thead>\n",
       "    <tr style=\"text-align: right;\">\n",
       "      <th></th>\n",
       "      <th>DC</th>\n",
       "      <th>CC</th>\n",
       "      <th>BC</th>\n",
       "      <th>EVC</th>\n",
       "      <th>KC</th>\n",
       "      <th>DC_rank</th>\n",
       "      <th>CC_rank</th>\n",
       "      <th>BC_rank</th>\n",
       "      <th>EVC_rank</th>\n",
       "      <th>KC_rank</th>\n",
       "      <th>composite_rank</th>\n",
       "    </tr>\n",
       "  </thead>\n",
       "  <tbody>\n",
       "    <tr>\n",
       "      <th>reddit.com</th>\n",
       "      <td>1.0</td>\n",
       "      <td>1.0</td>\n",
       "      <td>0.0</td>\n",
       "      <td>0.379795</td>\n",
       "      <td>0.280776</td>\n",
       "      <td>20.0</td>\n",
       "      <td>20.0</td>\n",
       "      <td>20.0</td>\n",
       "      <td>1.0</td>\n",
       "      <td>1.0</td>\n",
       "      <td>8000.0</td>\n",
       "    </tr>\n",
       "    <tr>\n",
       "      <th>politics</th>\n",
       "      <td>1.0</td>\n",
       "      <td>1.0</td>\n",
       "      <td>0.0</td>\n",
       "      <td>0.316792</td>\n",
       "      <td>0.247758</td>\n",
       "      <td>20.0</td>\n",
       "      <td>20.0</td>\n",
       "      <td>20.0</td>\n",
       "      <td>2.0</td>\n",
       "      <td>2.0</td>\n",
       "      <td>32000.0</td>\n",
       "    </tr>\n",
       "    <tr>\n",
       "      <th>pics</th>\n",
       "      <td>1.0</td>\n",
       "      <td>1.0</td>\n",
       "      <td>0.0</td>\n",
       "      <td>0.295384</td>\n",
       "      <td>0.237753</td>\n",
       "      <td>20.0</td>\n",
       "      <td>20.0</td>\n",
       "      <td>20.0</td>\n",
       "      <td>3.0</td>\n",
       "      <td>3.0</td>\n",
       "      <td>72000.0</td>\n",
       "    </tr>\n",
       "    <tr>\n",
       "      <th>funny</th>\n",
       "      <td>1.0</td>\n",
       "      <td>1.0</td>\n",
       "      <td>0.0</td>\n",
       "      <td>0.282877</td>\n",
       "      <td>0.231434</td>\n",
       "      <td>20.0</td>\n",
       "      <td>20.0</td>\n",
       "      <td>20.0</td>\n",
       "      <td>4.0</td>\n",
       "      <td>4.0</td>\n",
       "      <td>128000.0</td>\n",
       "    </tr>\n",
       "    <tr>\n",
       "      <th>science</th>\n",
       "      <td>1.0</td>\n",
       "      <td>1.0</td>\n",
       "      <td>0.0</td>\n",
       "      <td>0.276318</td>\n",
       "      <td>0.228515</td>\n",
       "      <td>20.0</td>\n",
       "      <td>20.0</td>\n",
       "      <td>20.0</td>\n",
       "      <td>5.0</td>\n",
       "      <td>5.0</td>\n",
       "      <td>200000.0</td>\n",
       "    </tr>\n",
       "    <tr>\n",
       "      <th>technology</th>\n",
       "      <td>1.0</td>\n",
       "      <td>1.0</td>\n",
       "      <td>0.0</td>\n",
       "      <td>0.267164</td>\n",
       "      <td>0.223660</td>\n",
       "      <td>20.0</td>\n",
       "      <td>20.0</td>\n",
       "      <td>20.0</td>\n",
       "      <td>6.0</td>\n",
       "      <td>6.0</td>\n",
       "      <td>288000.0</td>\n",
       "    </tr>\n",
       "    <tr>\n",
       "      <th>worldnews</th>\n",
       "      <td>1.0</td>\n",
       "      <td>1.0</td>\n",
       "      <td>0.0</td>\n",
       "      <td>0.262058</td>\n",
       "      <td>0.220880</td>\n",
       "      <td>20.0</td>\n",
       "      <td>20.0</td>\n",
       "      <td>20.0</td>\n",
       "      <td>7.0</td>\n",
       "      <td>7.0</td>\n",
       "      <td>392000.0</td>\n",
       "    </tr>\n",
       "    <tr>\n",
       "      <th>WTF</th>\n",
       "      <td>1.0</td>\n",
       "      <td>1.0</td>\n",
       "      <td>0.0</td>\n",
       "      <td>0.260284</td>\n",
       "      <td>0.220452</td>\n",
       "      <td>20.0</td>\n",
       "      <td>20.0</td>\n",
       "      <td>20.0</td>\n",
       "      <td>8.0</td>\n",
       "      <td>8.0</td>\n",
       "      <td>512000.0</td>\n",
       "    </tr>\n",
       "    <tr>\n",
       "      <th>entertainment</th>\n",
       "      <td>1.0</td>\n",
       "      <td>1.0</td>\n",
       "      <td>0.0</td>\n",
       "      <td>0.249796</td>\n",
       "      <td>0.214771</td>\n",
       "      <td>20.0</td>\n",
       "      <td>20.0</td>\n",
       "      <td>20.0</td>\n",
       "      <td>9.0</td>\n",
       "      <td>9.0</td>\n",
       "      <td>648000.0</td>\n",
       "    </tr>\n",
       "    <tr>\n",
       "      <th>programming</th>\n",
       "      <td>1.0</td>\n",
       "      <td>1.0</td>\n",
       "      <td>0.0</td>\n",
       "      <td>0.223551</td>\n",
       "      <td>0.201766</td>\n",
       "      <td>20.0</td>\n",
       "      <td>20.0</td>\n",
       "      <td>20.0</td>\n",
       "      <td>10.0</td>\n",
       "      <td>10.0</td>\n",
       "      <td>800000.0</td>\n",
       "    </tr>\n",
       "  </tbody>\n",
       "</table>\n",
       "</div>"
      ],
      "text/plain": [
       "                DC   CC   BC       EVC        KC  DC_rank  CC_rank  BC_rank  \\\n",
       "reddit.com     1.0  1.0  0.0  0.379795  0.280776     20.0     20.0     20.0   \n",
       "politics       1.0  1.0  0.0  0.316792  0.247758     20.0     20.0     20.0   \n",
       "pics           1.0  1.0  0.0  0.295384  0.237753     20.0     20.0     20.0   \n",
       "funny          1.0  1.0  0.0  0.282877  0.231434     20.0     20.0     20.0   \n",
       "science        1.0  1.0  0.0  0.276318  0.228515     20.0     20.0     20.0   \n",
       "technology     1.0  1.0  0.0  0.267164  0.223660     20.0     20.0     20.0   \n",
       "worldnews      1.0  1.0  0.0  0.262058  0.220880     20.0     20.0     20.0   \n",
       "WTF            1.0  1.0  0.0  0.260284  0.220452     20.0     20.0     20.0   \n",
       "entertainment  1.0  1.0  0.0  0.249796  0.214771     20.0     20.0     20.0   \n",
       "programming    1.0  1.0  0.0  0.223551  0.201766     20.0     20.0     20.0   \n",
       "\n",
       "               EVC_rank  KC_rank  composite_rank  \n",
       "reddit.com          1.0      1.0          8000.0  \n",
       "politics            2.0      2.0         32000.0  \n",
       "pics                3.0      3.0         72000.0  \n",
       "funny               4.0      4.0        128000.0  \n",
       "science             5.0      5.0        200000.0  \n",
       "technology          6.0      6.0        288000.0  \n",
       "worldnews           7.0      7.0        392000.0  \n",
       "WTF                 8.0      8.0        512000.0  \n",
       "entertainment       9.0      9.0        648000.0  \n",
       "programming        10.0     10.0        800000.0  "
      ]
     },
     "execution_count": 23,
     "metadata": {},
     "output_type": "execute_result"
    }
   ],
   "source": [
    "\n",
    "labele = ['DC', 'CC', 'BC', 'EVC', 'KC']\n",
    "data_helper = pd.concat([data_cent , df_katzc ] , axis = 1)\n",
    "df_ = data_helper\n",
    "for metric in labele:\n",
    "    df_[f\"{metric}_rank\"] = df_[f\"{metric}\"].rank(ascending=False) \n",
    "    \n",
    "df_['composite_rank'] = df_['DC_rank'] * df_['CC_rank'] * df_['BC_rank'] * df_['EVC_rank'] * df_['KC_rank']\n",
    "df_.nsmallest(10, 'composite_rank')\n",
    "#df_.sort_values(['CC'], ascending = False, inplace=True)"
   ]
  },
  {
   "cell_type": "markdown",
   "id": "a9d92022",
   "metadata": {},
   "source": [
    "### 20 - "
   ]
  },
  {
   "cell_type": "code",
   "execution_count": 25,
   "id": "1680d6c5",
   "metadata": {},
   "outputs": [
    {
     "name": "stdout",
     "output_type": "stream",
     "text": [
      "     k      lambda_k\n",
      "0    1 -2.399431e-11\n",
      "1    2  2.593206e+03\n",
      "2    3  2.824891e+03\n",
      "3    4  8.433984e+03\n",
      "4    5  8.825458e+03\n",
      "5    6  1.524433e+04\n",
      "6    7  1.596725e+04\n",
      "7    8  1.769251e+04\n",
      "8    9  2.283501e+04\n",
      "9   10  2.379979e+04\n",
      "10  11  2.580535e+04\n",
      "11  12  2.911989e+04\n",
      "12  13  3.091964e+04\n",
      "13  14  3.256196e+04\n",
      "14  15  4.065290e+04\n",
      "15  16  4.281376e+04\n",
      "16  17  4.720163e+04\n",
      "17  18  6.254138e+04\n",
      "18  19  7.430153e+04\n",
      "19  20  7.705983e+04\n",
      "20  21  7.884973e+04\n",
      "21  22  8.232948e+04\n",
      "22  23  8.676976e+04\n",
      "23  24  8.984049e+04\n",
      "24  25  9.292494e+04\n",
      "25  26  9.791073e+04\n",
      "26  27  1.108151e+05\n",
      "27  28  1.337896e+05\n",
      "28  29  1.436988e+05\n",
      "29  30  1.891725e+05\n"
     ]
    },
    {
     "name": "stderr",
     "output_type": "stream",
     "text": [
      "<class 'networkx.utils.decorators.argmap'> compilation 46:4: FutureWarning: laplacian_matrix will return a scipy.sparse array instead of a matrix in Networkx 3.0.\n",
      "C:\\Users\\Nikola\\anaconda3\\lib\\site-packages\\pandas\\core\\dtypes\\cast.py:1181: ComplexWarning: Casting complex values to real discards the imaginary part\n",
      "  return arr.astype(dtype, copy=True)\n",
      "C:\\Users\\Nikola\\anaconda3\\lib\\site-packages\\matplotlib\\collections.py:200: ComplexWarning: Casting complex values to real discards the imaginary part\n",
      "  offsets = np.asanyarray(offsets, float)\n"
     ]
    },
    {
     "data": {
      "image/png": "[encoded data removed]",
      "text/plain": [
       "<Figure size 432x288 with 1 Axes>"
      ]
     },
     "metadata": {
      "needs_background": "light"
     },
     "output_type": "display_data"
    }
   ],
   "source": [
    "from scipy import linalg\n",
    "def plot_scatterplot(x_data, y_data, x_label, y_label, title):\n",
    "    fig, ax = plt.subplots()\n",
    "    ax.scatter(x_data, y_data) \n",
    "    ax.set_ylabel(y_label, fontsize=15)\n",
    "    ax.set_xlabel(x_label, fontsize=15)\n",
    "    ax.set_title(title)\n",
    "    plt.show() \n",
    "    \n",
    "L = nx.laplacian_matrix(snet_t).toarray()\n",
    "\n",
    "eigenvalues = linalg.eigvals(L) # TODO: change to .eigenvalsh because we know the matrix is symmetric\n",
    "eigenvalues.sort()\n",
    "enumerator = np.array(range(1, len(eigenvalues)+1))\n",
    "df_eig = pd.DataFrame(list(zip(enumerator, eigenvalues)))\n",
    "\n",
    "# write eigenvalue table\n",
    "df_eig30 = df_eig[:30]\n",
    "df_eig30.columns = ['k', 'lambda_k']\n",
    "df_eig30 = df_eig30.astype({'k': 'int32', 'lambda_k':'float'})\n",
    "print(df_eig30)\n",
    "plot_scatterplot(enumerator, eigenvalues, r'$k$', r'$\\lambda_k$', 'Ceo spektar graf laplasijana')"
   ]
  },
  {
   "cell_type": "code",
   "execution_count": 26,
   "id": "d9ba92d8",
   "metadata": {},
   "outputs": [
    {
     "data": {
      "image/png": "[encoded data removed]",
      "text/plain": [
       "<Figure size 432x288 with 1 Axes>"
      ]
     },
     "metadata": {
      "needs_background": "light"
     },
     "output_type": "display_data"
    }
   ],
   "source": [
    "# prvih 30 sopstvenih vrednosti\n",
    "\n",
    "df_eig_30 = df_eig[:30]\n",
    "\n",
    "plot_scatterplot(df_eig_30.iloc[:,0], df_eig_30.iloc[:,1], r'$k$', r'$\\lambda_k$', 'Prvih 30 sopstvenih vrednosti graf laplasijana')"
   ]
  },
  {
   "cell_type": "code",
   "execution_count": 13,
   "id": "ac55b199",
   "metadata": {},
   "outputs": [
    {
     "ename": "NameError",
     "evalue": "name 'df_eig' is not defined",
     "output_type": "error",
     "traceback": [
      "\u001b[1;31m---------------------------------------------------------------------------\u001b[0m",
      "\u001b[1;31mNameError\u001b[0m                                 Traceback (most recent call last)",
      "Input \u001b[1;32mIn [13]\u001b[0m, in \u001b[0;36m<cell line: 4>\u001b[1;34m()\u001b[0m\n\u001b[0;32m      1\u001b[0m \u001b[38;5;66;03m# eigengap\u001b[39;00m\n\u001b[1;32m----> 4\u001b[0m df_gap \u001b[38;5;241m=\u001b[39m \u001b[43mdf_eig\u001b[49m\u001b[38;5;241m.\u001b[39miloc[:,\u001b[38;5;241m1\u001b[39m]\u001b[38;5;241m.\u001b[39mdiff()\n\u001b[0;32m      5\u001b[0m df_gap \u001b[38;5;241m=\u001b[39m df_gap\u001b[38;5;241m.\u001b[39mastype(np\u001b[38;5;241m.\u001b[39mfloat64)\n\u001b[0;32m      7\u001b[0m df_gap \u001b[38;5;241m=\u001b[39m df_gap[\u001b[38;5;241m1\u001b[39m:]\n",
      "\u001b[1;31mNameError\u001b[0m: name 'df_eig' is not defined"
     ]
    }
   ],
   "source": [
    "# eigengap\n",
    "\n",
    "\n",
    "df_gap = df_eig.iloc[:,1].diff()\n",
    "df_gap = df_gap.astype(np.float64)\n",
    "\n",
    "df_gap = df_gap[1:]\n",
    "enumerator_column = np.array(range(1, len(df_gap)+1))\n",
    "\n",
    "df_gap = pd.DataFrame(list(zip(enumerator_column, df_gap)))\n",
    "  \n",
    "plot_scatterplot(df_gap.iloc[:,0], df_gap.iloc[:,1], r'$k$', r'$\\lambda_{k+1}-\\lambda_k$','Eigengap')\n",
    "\n",
    "plot_scatterplot(df_gap.iloc[:30,0], df_gap.iloc[:30,1], r'$k$', r'$\\lambda_{k+1}-\\lambda_k$','Eigengap prvih 30 sopstvenih vrednosti graf laplasijana')"
   ]
  },
  {
   "cell_type": "code",
   "execution_count": 14,
   "id": "354c2831",
   "metadata": {},
   "outputs": [
    {
     "name": "stderr",
     "output_type": "stream",
     "text": [
      "C:\\Users\\Nikola\\AppData\\Local\\Temp\\ipykernel_23916\\415987025.py:5: FutureWarning: adjacency_matrix will return a scipy.sparse array instead of a matrix in Networkx 3.0.\n",
      "  assign_labels=\"discretize\", affinity=\"precomputed\").fit(nx.adjacency_matrix(snet_t))\n"
     ]
    },
    {
     "name": "stdout",
     "output_type": "stream",
     "text": [
      "Podela na 2: velicine komponenata su [27. 12.]\n",
      "Podela na 3: velicine komponenata su [ 5. 16. 18.]\n",
      "Podela na 4: velicine komponenata su [13.  5. 10. 11.]\n",
      "Podela na 5: velicine komponenata su [ 4. 19.  4. 12.  0.]\n",
      "Podela na 6: velicine komponenata su [12.  6.  4.  4. 13.  0.]\n",
      "Podela na 7: velicine komponenata su [ 9.  1.  1. 11. 11.  3.  3.]\n",
      "Podela na 8: velicine komponenata su [ 4. 11.  1.  1.  1. 14.  6.  1.]\n",
      "Podela na 9: velicine komponenata su [16.  2.  1.  1.  2.  3. 11.  3.  0.]\n",
      "Podela na 10: velicine komponenata su [ 1.  1. 18.  1.  4.  1.  6.  1.  6.  0.]\n",
      "Podela na 11: velicine komponenata su [ 5.  1.  2.  1.  1.  1.  1. 11.  4.  1. 11.]\n",
      "Podela na 12: velicine komponenata su [10.  1.  1.  1.  1.  3.  5.  1. 11.  2.  2.  1.]\n",
      "Podela na 13: velicine komponenata su [15.  1.  1.  1.  2.  1.  1.  5.  1.  5.  1.  5.  0.]\n",
      "Podela na 14: velicine komponenata su [ 6.  3.  1.  1.  1.  2.  1. 20.  1.  1.  2.  0.  0.  0.]\n",
      "Podela na 15: velicine komponenata su [ 1.  1.  8.  1.  1.  2.  1.  3.  3.  1.  3.  2.  0. 12.  0.]\n",
      "Podela na 16: velicine komponenata su [ 2.  1.  3.  1.  7.  1. 11.  1.  1.  1.  1.  1.  1.  1.  4.  2.]\n",
      "Podela na 17: velicine komponenata su [ 1.  1. 11.  1.  1.  1.  1.  1.  2.  1.  3.  1.  2.  2.  8.  1.  1.]\n",
      "Podela na 18: velicine komponenata su [ 2.  3.  1.  1.  2.  1.  1.  1.  1. 12.  1.  1.  2.  1.  6.  1.  0.  2.]\n",
      "Podela na 19: velicine komponenata su [ 5.  1.  1.  3.  1.  2.  1.  1.  1.  1.  1.  1.  2.  1.  2.  1.  1.  1.\n",
      " 12.]\n",
      "Podela na 20: velicine komponenata su [ 6.  1.  2.  1.  3.  1.  1.  1.  1.  1.  1.  1.  1. 11.  1.  1.  1.  1.\n",
      "  2.  1.]\n",
      "Podela na 21: velicine komponenata su [ 2.  3.  4.  1.  1.  1.  1.  1.  1.  1.  1.  1.  1.  1.  2.  1.  1.  2.\n",
      "  1.  0. 12.]\n",
      "Podela na 22: velicine komponenata su [ 3.  1.  2.  1.  2.  1.  1.  1.  1.  1.  2.  1.  1.  1.  1.  1.  1.  1.\n",
      "  1.  2.  1. 12.]\n",
      "Podela na 23: velicine komponenata su [ 4.  1.  1.  0.  1.  1.  1.  2.  1.  1.  1. 12.  1.  1.  1.  1.  1.  1.\n",
      "  1.  1.  1.  1.  3.]\n",
      "Podela na 24: velicine komponenata su [ 1.  1.  1.  2.  1.  1.  1.  1.  2.  1.  1.  1.  1.  1. 12.  1.  2.  1.\n",
      "  1.  1.  1.  4.  0.  0.]\n",
      "Podela na 25: velicine komponenata su [ 1.  1.  1.  1.  1.  1.  1.  1.  1.  1. 11.  1.  1.  1.  1.  1.  1.  1.\n",
      "  1.  2.  1.  3.  3.  1.  0.]\n",
      "Podela na 26: velicine komponenata su [12.  1.  1.  1.  1.  0.  1.  1.  2.  1.  1.  1.  1.  1.  1.  1.  1.  1.\n",
      "  1.  1.  1.  1.  2.  2.  1.  1.]\n",
      "Podela na 27: velicine komponenata su [ 1.  3.  1.  1.  1.  1.  1.  1.  1.  1.  1.  1.  1.  1.  1.  1.  1.  1.\n",
      "  1.  1.  1.  1.  1.  1.  1. 11.  1.]\n",
      "Podela na 28: velicine komponenata su [12.  1.  1.  1.  1.  1.  1.  1.  1.  1.  1.  1.  1.  1.  1.  1.  1.  1.\n",
      "  1.  1.  1.  1.  1.  1.  1.  1.  1.  1.]\n",
      "Podela na 29: velicine komponenata su [ 2. 11.  2.  1.  1.  1.  1.  1.  1.  1.  1.  1.  1.  1.  1.  1.  1.  1.\n",
      "  1.  1.  1.  1.  1.  1.  1.  1.  1.  0.  0.]\n",
      "Podela na 30: velicine komponenata su [1. 6. 1. 1. 1. 0. 1. 1. 1. 2. 1. 1. 1. 5. 1. 1. 1. 1. 1. 1. 1. 1. 1. 1.\n",
      " 1. 1. 1. 1. 1. 1.]\n",
      "Podela na 31: velicine komponenata su [5. 1. 1. 1. 1. 1. 1. 1. 1. 1. 1. 1. 1. 1. 1. 1. 3. 1. 1. 1. 1. 1. 1. 1.\n",
      " 1. 4. 1. 1. 1. 1. 0.]\n",
      "Podela na 32: velicine komponenata su [1. 1. 1. 1. 1. 1. 2. 1. 2. 1. 1. 1. 1. 1. 1. 1. 1. 1. 1. 1. 1. 1. 2. 1.\n",
      " 1. 6. 1. 1. 2. 1. 0. 0.]\n",
      "Podela na 33: velicine komponenata su [5. 1. 1. 1. 1. 1. 1. 1. 1. 1. 1. 1. 1. 1. 1. 2. 1. 1. 1. 1. 1. 1. 1. 1.\n",
      " 1. 1. 1. 1. 1. 2. 1. 2. 0.]\n",
      "Podela na 34: velicine komponenata su [3. 1. 1. 1. 1. 1. 1. 1. 1. 1. 1. 1. 1. 0. 1. 1. 1. 1. 1. 1. 3. 1. 1. 1.\n",
      " 1. 1. 2. 1. 1. 1. 1. 1. 2. 1.]\n",
      "Podela na 35: velicine komponenata su [3. 1. 1. 1. 1. 1. 1. 1. 1. 1. 1. 1. 1. 1. 1. 2. 1. 1. 1. 1. 2. 1. 1. 1.\n",
      " 1. 2. 1. 2. 1. 1. 2. 0. 1. 0. 0.]\n",
      "Podela na 36: velicine komponenata su [1. 2. 1. 1. 1. 1. 1. 1. 1. 1. 2. 1. 1. 1. 2. 1. 1. 1. 1. 1. 1. 1. 1. 1.\n",
      " 1. 1. 3. 1. 0. 2. 1. 0. 1. 0. 1. 1.]\n",
      "Podela na 37: velicine komponenata su [1. 2. 1. 1. 1. 1. 1. 1. 1. 1. 1. 2. 1. 1. 1. 1. 1. 1. 2. 1. 1. 1. 1. 1.\n",
      " 1. 1. 1. 2. 1. 1. 1. 0. 0. 1. 2. 0. 1.]\n",
      "Podela na 38: velicine komponenata su [1. 1. 2. 1. 1. 1. 1. 1. 2. 1. 1. 1. 1. 1. 1. 1. 1. 1. 1. 2. 1. 1. 1. 2.\n",
      " 1. 1. 1. 1. 1. 1. 1. 2. 1. 0. 0. 1. 0. 0.]\n"
     ]
    },
    {
     "name": "stderr",
     "output_type": "stream",
     "text": [
      "C:\\Users\\Nikola\\anaconda3\\lib\\site-packages\\scipy\\sparse\\linalg\\_eigen\\arpack\\arpack.py:1592: RuntimeWarning: k >= N for N * N square matrix. Attempting to use scipy.linalg.eigh instead.\n",
      "  warnings.warn(\"k >= N for N * N square matrix. \"\n"
     ]
    },
    {
     "ename": "TypeError",
     "evalue": "Cannot use scipy.linalg.eigh for sparse A with k >= N. Use scipy.linalg.eigh(A.toarray()) or reduce k.",
     "output_type": "error",
     "traceback": [
      "\u001b[1;31m---------------------------------------------------------------------------\u001b[0m",
      "\u001b[1;31mTypeError\u001b[0m                                 Traceback (most recent call last)",
      "Input \u001b[1;32mIn [14]\u001b[0m, in \u001b[0;36m<cell line: 2>\u001b[1;34m()\u001b[0m\n\u001b[0;32m      1\u001b[0m \u001b[38;5;28;01mfrom\u001b[39;00m \u001b[38;5;21;01msklearn\u001b[39;00m\u001b[38;5;21;01m.\u001b[39;00m\u001b[38;5;21;01mcluster\u001b[39;00m \u001b[38;5;28;01mimport\u001b[39;00m SpectralClustering\n\u001b[0;32m      2\u001b[0m \u001b[38;5;28;01mfor\u001b[39;00m k \u001b[38;5;129;01min\u001b[39;00m \u001b[38;5;28mrange\u001b[39m(\u001b[38;5;241m2\u001b[39m, \u001b[38;5;241m40\u001b[39m):\n\u001b[1;32m----> 4\u001b[0m     clustering \u001b[38;5;241m=\u001b[39m \u001b[43mSpectralClustering\u001b[49m\u001b[43m(\u001b[49m\u001b[43mn_clusters\u001b[49m\u001b[38;5;241;43m=\u001b[39;49m\u001b[43mk\u001b[49m\u001b[43m,\u001b[49m\n\u001b[0;32m      5\u001b[0m \u001b[43m    \u001b[49m\u001b[43massign_labels\u001b[49m\u001b[38;5;241;43m=\u001b[39;49m\u001b[38;5;124;43m\"\u001b[39;49m\u001b[38;5;124;43mdiscretize\u001b[39;49m\u001b[38;5;124;43m\"\u001b[39;49m\u001b[43m,\u001b[49m\u001b[43m \u001b[49m\u001b[43maffinity\u001b[49m\u001b[38;5;241;43m=\u001b[39;49m\u001b[38;5;124;43m\"\u001b[39;49m\u001b[38;5;124;43mprecomputed\u001b[39;49m\u001b[38;5;124;43m\"\u001b[39;49m\u001b[43m)\u001b[49m\u001b[38;5;241;43m.\u001b[39;49m\u001b[43mfit\u001b[49m\u001b[43m(\u001b[49m\u001b[43mnx\u001b[49m\u001b[38;5;241;43m.\u001b[39;49m\u001b[43madjacency_matrix\u001b[49m\u001b[43m(\u001b[49m\u001b[43msnet_t\u001b[49m\u001b[43m)\u001b[49m\u001b[43m)\u001b[49m\n\u001b[0;32m      7\u001b[0m     colors \u001b[38;5;241m=\u001b[39m clustering\u001b[38;5;241m.\u001b[39mlabels_\n\u001b[0;32m      8\u001b[0m     c_string \u001b[38;5;241m=\u001b[39m []\n",
      "File \u001b[1;32m~\\anaconda3\\lib\\site-packages\\sklearn\\cluster\\_spectral.py:622\u001b[0m, in \u001b[0;36mSpectralClustering.fit\u001b[1;34m(self, X, y)\u001b[0m\n\u001b[0;32m    617\u001b[0m     \u001b[38;5;28mself\u001b[39m\u001b[38;5;241m.\u001b[39maffinity_matrix_ \u001b[38;5;241m=\u001b[39m pairwise_kernels(\n\u001b[0;32m    618\u001b[0m         X, metric\u001b[38;5;241m=\u001b[39m\u001b[38;5;28mself\u001b[39m\u001b[38;5;241m.\u001b[39maffinity, filter_params\u001b[38;5;241m=\u001b[39m\u001b[38;5;28;01mTrue\u001b[39;00m, \u001b[38;5;241m*\u001b[39m\u001b[38;5;241m*\u001b[39mparams\n\u001b[0;32m    619\u001b[0m     )\n\u001b[0;32m    621\u001b[0m random_state \u001b[38;5;241m=\u001b[39m check_random_state(\u001b[38;5;28mself\u001b[39m\u001b[38;5;241m.\u001b[39mrandom_state)\n\u001b[1;32m--> 622\u001b[0m \u001b[38;5;28mself\u001b[39m\u001b[38;5;241m.\u001b[39mlabels_ \u001b[38;5;241m=\u001b[39m \u001b[43mspectral_clustering\u001b[49m\u001b[43m(\u001b[49m\n\u001b[0;32m    623\u001b[0m \u001b[43m    \u001b[49m\u001b[38;5;28;43mself\u001b[39;49m\u001b[38;5;241;43m.\u001b[39;49m\u001b[43maffinity_matrix_\u001b[49m\u001b[43m,\u001b[49m\n\u001b[0;32m    624\u001b[0m \u001b[43m    \u001b[49m\u001b[43mn_clusters\u001b[49m\u001b[38;5;241;43m=\u001b[39;49m\u001b[38;5;28;43mself\u001b[39;49m\u001b[38;5;241;43m.\u001b[39;49m\u001b[43mn_clusters\u001b[49m\u001b[43m,\u001b[49m\n\u001b[0;32m    625\u001b[0m \u001b[43m    \u001b[49m\u001b[43mn_components\u001b[49m\u001b[38;5;241;43m=\u001b[39;49m\u001b[38;5;28;43mself\u001b[39;49m\u001b[38;5;241;43m.\u001b[39;49m\u001b[43mn_components\u001b[49m\u001b[43m,\u001b[49m\n\u001b[0;32m    626\u001b[0m \u001b[43m    \u001b[49m\u001b[43meigen_solver\u001b[49m\u001b[38;5;241;43m=\u001b[39;49m\u001b[38;5;28;43mself\u001b[39;49m\u001b[38;5;241;43m.\u001b[39;49m\u001b[43meigen_solver\u001b[49m\u001b[43m,\u001b[49m\n\u001b[0;32m    627\u001b[0m \u001b[43m    \u001b[49m\u001b[43mrandom_state\u001b[49m\u001b[38;5;241;43m=\u001b[39;49m\u001b[43mrandom_state\u001b[49m\u001b[43m,\u001b[49m\n\u001b[0;32m    628\u001b[0m \u001b[43m    \u001b[49m\u001b[43mn_init\u001b[49m\u001b[38;5;241;43m=\u001b[39;49m\u001b[38;5;28;43mself\u001b[39;49m\u001b[38;5;241;43m.\u001b[39;49m\u001b[43mn_init\u001b[49m\u001b[43m,\u001b[49m\n\u001b[0;32m    629\u001b[0m \u001b[43m    \u001b[49m\u001b[43meigen_tol\u001b[49m\u001b[38;5;241;43m=\u001b[39;49m\u001b[38;5;28;43mself\u001b[39;49m\u001b[38;5;241;43m.\u001b[39;49m\u001b[43meigen_tol\u001b[49m\u001b[43m,\u001b[49m\n\u001b[0;32m    630\u001b[0m \u001b[43m    \u001b[49m\u001b[43massign_labels\u001b[49m\u001b[38;5;241;43m=\u001b[39;49m\u001b[38;5;28;43mself\u001b[39;49m\u001b[38;5;241;43m.\u001b[39;49m\u001b[43massign_labels\u001b[49m\u001b[43m,\u001b[49m\n\u001b[0;32m    631\u001b[0m \u001b[43m    \u001b[49m\u001b[43mverbose\u001b[49m\u001b[38;5;241;43m=\u001b[39;49m\u001b[38;5;28;43mself\u001b[39;49m\u001b[38;5;241;43m.\u001b[39;49m\u001b[43mverbose\u001b[49m\u001b[43m,\u001b[49m\n\u001b[0;32m    632\u001b[0m \u001b[43m\u001b[49m\u001b[43m)\u001b[49m\n\u001b[0;32m    633\u001b[0m \u001b[38;5;28;01mreturn\u001b[39;00m \u001b[38;5;28mself\u001b[39m\n",
      "File \u001b[1;32m~\\anaconda3\\lib\\site-packages\\sklearn\\cluster\\_spectral.py:300\u001b[0m, in \u001b[0;36mspectral_clustering\u001b[1;34m(affinity, n_clusters, n_components, eigen_solver, random_state, n_init, eigen_tol, assign_labels, verbose)\u001b[0m\n\u001b[0;32m    292\u001b[0m n_components \u001b[38;5;241m=\u001b[39m n_clusters \u001b[38;5;28;01mif\u001b[39;00m n_components \u001b[38;5;129;01mis\u001b[39;00m \u001b[38;5;28;01mNone\u001b[39;00m \u001b[38;5;28;01melse\u001b[39;00m n_components\n\u001b[0;32m    294\u001b[0m \u001b[38;5;66;03m# We now obtain the real valued solution matrix to the\u001b[39;00m\n\u001b[0;32m    295\u001b[0m \u001b[38;5;66;03m# relaxed Ncut problem, solving the eigenvalue problem\u001b[39;00m\n\u001b[0;32m    296\u001b[0m \u001b[38;5;66;03m# L_sym x = lambda x  and recovering u = D^-1/2 x.\u001b[39;00m\n\u001b[0;32m    297\u001b[0m \u001b[38;5;66;03m# The first eigenvector is constant only for fully connected graphs\u001b[39;00m\n\u001b[0;32m    298\u001b[0m \u001b[38;5;66;03m# and should be kept for spectral clustering (drop_first = False)\u001b[39;00m\n\u001b[0;32m    299\u001b[0m \u001b[38;5;66;03m# See spectral_embedding documentation.\u001b[39;00m\n\u001b[1;32m--> 300\u001b[0m maps \u001b[38;5;241m=\u001b[39m \u001b[43mspectral_embedding\u001b[49m\u001b[43m(\u001b[49m\n\u001b[0;32m    301\u001b[0m \u001b[43m    \u001b[49m\u001b[43maffinity\u001b[49m\u001b[43m,\u001b[49m\n\u001b[0;32m    302\u001b[0m \u001b[43m    \u001b[49m\u001b[43mn_components\u001b[49m\u001b[38;5;241;43m=\u001b[39;49m\u001b[43mn_components\u001b[49m\u001b[43m,\u001b[49m\n\u001b[0;32m    303\u001b[0m \u001b[43m    \u001b[49m\u001b[43meigen_solver\u001b[49m\u001b[38;5;241;43m=\u001b[39;49m\u001b[43meigen_solver\u001b[49m\u001b[43m,\u001b[49m\n\u001b[0;32m    304\u001b[0m \u001b[43m    \u001b[49m\u001b[43mrandom_state\u001b[49m\u001b[38;5;241;43m=\u001b[39;49m\u001b[43mrandom_state\u001b[49m\u001b[43m,\u001b[49m\n\u001b[0;32m    305\u001b[0m \u001b[43m    \u001b[49m\u001b[43meigen_tol\u001b[49m\u001b[38;5;241;43m=\u001b[39;49m\u001b[43meigen_tol\u001b[49m\u001b[43m,\u001b[49m\n\u001b[0;32m    306\u001b[0m \u001b[43m    \u001b[49m\u001b[43mdrop_first\u001b[49m\u001b[38;5;241;43m=\u001b[39;49m\u001b[38;5;28;43;01mFalse\u001b[39;49;00m\u001b[43m,\u001b[49m\n\u001b[0;32m    307\u001b[0m \u001b[43m\u001b[49m\u001b[43m)\u001b[49m\n\u001b[0;32m    308\u001b[0m \u001b[38;5;28;01mif\u001b[39;00m verbose:\n\u001b[0;32m    309\u001b[0m     \u001b[38;5;28mprint\u001b[39m(\u001b[38;5;124mf\u001b[39m\u001b[38;5;124m\"\u001b[39m\u001b[38;5;124mComputing label assignment using \u001b[39m\u001b[38;5;132;01m{\u001b[39;00massign_labels\u001b[38;5;132;01m}\u001b[39;00m\u001b[38;5;124m\"\u001b[39m)\n",
      "File \u001b[1;32m~\\anaconda3\\lib\\site-packages\\sklearn\\manifold\\_spectral_embedding.py:299\u001b[0m, in \u001b[0;36mspectral_embedding\u001b[1;34m(adjacency, n_components, eigen_solver, random_state, eigen_tol, norm_laplacian, drop_first)\u001b[0m\n\u001b[0;32m    297\u001b[0m laplacian \u001b[38;5;241m*\u001b[39m\u001b[38;5;241m=\u001b[39m \u001b[38;5;241m-\u001b[39m\u001b[38;5;241m1\u001b[39m\n\u001b[0;32m    298\u001b[0m v0 \u001b[38;5;241m=\u001b[39m _init_arpack_v0(laplacian\u001b[38;5;241m.\u001b[39mshape[\u001b[38;5;241m0\u001b[39m], random_state)\n\u001b[1;32m--> 299\u001b[0m _, diffusion_map \u001b[38;5;241m=\u001b[39m \u001b[43meigsh\u001b[49m\u001b[43m(\u001b[49m\n\u001b[0;32m    300\u001b[0m \u001b[43m    \u001b[49m\u001b[43mlaplacian\u001b[49m\u001b[43m,\u001b[49m\u001b[43m \u001b[49m\u001b[43mk\u001b[49m\u001b[38;5;241;43m=\u001b[39;49m\u001b[43mn_components\u001b[49m\u001b[43m,\u001b[49m\u001b[43m \u001b[49m\u001b[43msigma\u001b[49m\u001b[38;5;241;43m=\u001b[39;49m\u001b[38;5;241;43m1.0\u001b[39;49m\u001b[43m,\u001b[49m\u001b[43m \u001b[49m\u001b[43mwhich\u001b[49m\u001b[38;5;241;43m=\u001b[39;49m\u001b[38;5;124;43m\"\u001b[39;49m\u001b[38;5;124;43mLM\u001b[39;49m\u001b[38;5;124;43m\"\u001b[39;49m\u001b[43m,\u001b[49m\u001b[43m \u001b[49m\u001b[43mtol\u001b[49m\u001b[38;5;241;43m=\u001b[39;49m\u001b[43meigen_tol\u001b[49m\u001b[43m,\u001b[49m\u001b[43m \u001b[49m\u001b[43mv0\u001b[49m\u001b[38;5;241;43m=\u001b[39;49m\u001b[43mv0\u001b[49m\n\u001b[0;32m    301\u001b[0m \u001b[43m\u001b[49m\u001b[43m)\u001b[49m\n\u001b[0;32m    302\u001b[0m embedding \u001b[38;5;241m=\u001b[39m diffusion_map\u001b[38;5;241m.\u001b[39mT[n_components::\u001b[38;5;241m-\u001b[39m\u001b[38;5;241m1\u001b[39m]\n\u001b[0;32m    303\u001b[0m \u001b[38;5;28;01mif\u001b[39;00m norm_laplacian:\n\u001b[0;32m    304\u001b[0m     \u001b[38;5;66;03m# recover u = D^-1/2 x from the eigenvector output x\u001b[39;00m\n",
      "File \u001b[1;32m~\\anaconda3\\lib\\site-packages\\scipy\\sparse\\linalg\\_eigen\\arpack\\arpack.py:1597\u001b[0m, in \u001b[0;36meigsh\u001b[1;34m(A, k, M, sigma, which, v0, ncv, maxiter, tol, return_eigenvectors, Minv, OPinv, mode)\u001b[0m\n\u001b[0;32m   1592\u001b[0m warnings\u001b[38;5;241m.\u001b[39mwarn(\u001b[38;5;124m\"\u001b[39m\u001b[38;5;124mk >= N for N * N square matrix. \u001b[39m\u001b[38;5;124m\"\u001b[39m\n\u001b[0;32m   1593\u001b[0m               \u001b[38;5;124m\"\u001b[39m\u001b[38;5;124mAttempting to use scipy.linalg.eigh instead.\u001b[39m\u001b[38;5;124m\"\u001b[39m,\n\u001b[0;32m   1594\u001b[0m               \u001b[38;5;167;01mRuntimeWarning\u001b[39;00m)\n\u001b[0;32m   1596\u001b[0m \u001b[38;5;28;01mif\u001b[39;00m issparse(A):\n\u001b[1;32m-> 1597\u001b[0m     \u001b[38;5;28;01mraise\u001b[39;00m \u001b[38;5;167;01mTypeError\u001b[39;00m(\u001b[38;5;124m\"\u001b[39m\u001b[38;5;124mCannot use scipy.linalg.eigh for sparse A with \u001b[39m\u001b[38;5;124m\"\u001b[39m\n\u001b[0;32m   1598\u001b[0m                     \u001b[38;5;124m\"\u001b[39m\u001b[38;5;124mk >= N. Use scipy.linalg.eigh(A.toarray()) or\u001b[39m\u001b[38;5;124m\"\u001b[39m\n\u001b[0;32m   1599\u001b[0m                     \u001b[38;5;124m\"\u001b[39m\u001b[38;5;124m reduce k.\u001b[39m\u001b[38;5;124m\"\u001b[39m)\n\u001b[0;32m   1600\u001b[0m \u001b[38;5;28;01mif\u001b[39;00m \u001b[38;5;28misinstance\u001b[39m(A, LinearOperator):\n\u001b[0;32m   1601\u001b[0m     \u001b[38;5;28;01mraise\u001b[39;00m \u001b[38;5;167;01mTypeError\u001b[39;00m(\u001b[38;5;124m\"\u001b[39m\u001b[38;5;124mCannot use scipy.linalg.eigh for LinearOperator \u001b[39m\u001b[38;5;124m\"\u001b[39m\n\u001b[0;32m   1602\u001b[0m                     \u001b[38;5;124m\"\u001b[39m\u001b[38;5;124mA with k >= N.\u001b[39m\u001b[38;5;124m\"\u001b[39m)\n",
      "\u001b[1;31mTypeError\u001b[0m: Cannot use scipy.linalg.eigh for sparse A with k >= N. Use scipy.linalg.eigh(A.toarray()) or reduce k."
     ]
    }
   ],
   "source": [
    "from sklearn.cluster import SpectralClustering\n",
    "for k in range(2, 40):\n",
    "    \n",
    "    clustering = SpectralClustering(n_clusters=k,\n",
    "    assign_labels=\"discretize\", affinity=\"precomputed\").fit(nx.adjacency_matrix(snet_t))\n",
    "\n",
    "    colors = clustering.labels_\n",
    "    c_string = []\n",
    "    for c in colors:\n",
    "        c_string.append(str(c))\n",
    "\n",
    "    G = nx.Graph()\n",
    "    for c, label in zip(c_string, snet_t.nodes()):\n",
    "        G.add_node(label, color=c)\n",
    "\n",
    "    for edge in snet_t.edges(data=True):\n",
    "        #print(edge)\n",
    "        G.add_edge(edge[0], edge[1], weight=edge[2]['weight'])\n",
    "\n",
    "    # nx.write_pajek(G, \"etf/spectral3.net\")\n",
    "    \n",
    "    csizes = np.zeros(k)\n",
    "    for c in colors:\n",
    "        csizes[int(c)] += 1\n",
    "    \n",
    "    print(f\"Podela na {k}: velicine komponenata su {csizes}\")"
   ]
  },
  {
   "cell_type": "markdown",
   "id": "fb56ce82",
   "metadata": {},
   "source": [
    "### 21 - Luvenska metoda"
   ]
  },
  {
   "cell_type": "code",
   "execution_count": null,
   "id": "9596981c",
   "metadata": {},
   "outputs": [],
   "source": []
  },
  {
   "cell_type": "markdown",
   "id": "8c300104",
   "metadata": {},
   "source": [
    "![alt text](images/snet_t_1_0.png \"Bipartitivna mreža i unimodalne projekcije\")\n",
    "\n",
    "Slika: Luvenska metoda. Rezolucija 1.0. Broj komuna 2"
   ]
  },
  {
   "cell_type": "markdown",
   "id": "dbc9e3cf",
   "metadata": {},
   "source": [
    "![alt text](images/snet_F_0.5.png \"Bipartitivna mreža i unimodalne projekcije\")\n",
    "\n",
    "Slika: Luvenska metoda. Rezolucija 0.5. Broj komuna 10"
   ]
  },
  {
   "cell_type": "markdown",
   "id": "f99d58e5",
   "metadata": {},
   "source": [
    "![alt text](images/snet_F_3.0.png \"Bipartitivna mreža i unimodalne projekcije\")\n",
    "\n",
    "Slika: Luvenska metoda. Rezolucija 2. Broj komuna 1"
   ]
  },
  {
   "cell_type": "markdown",
   "id": "7d12b01c",
   "metadata": {},
   "source": [
    "### 22 -  Uocene komune\n"
   ]
  },
  {
   "cell_type": "markdown",
   "id": "a3654fcb",
   "metadata": {},
   "source": [
    "Uocene su dve vece zajednice (komune):"
   ]
  },
  {
   "cell_type": "markdown",
   "id": "189872a2",
   "metadata": {},
   "source": [
    "![alt text](images/snet_t_mod_1.png \"Bipartitivna mreža i unimodalne projekcije\")\n",
    "\n",
    "Slika: Luvenska metoda. Rezolucija 1.0. Procenat cvorova koji pripadaju komuni je 66.67%"
   ]
  },
  {
   "cell_type": "markdown",
   "id": "c2d4a2b2",
   "metadata": {},
   "source": [
    "![alt text](images/snet_t_2.png \"Bipartitivna mreža i unimodalne projekcije\")\n",
    "\n",
    "Slika: Luvenska metoda. Rezolucija 1.0. Procenat cvorova koji pripadaju komuni je 33.33%"
   ]
  },
  {
   "cell_type": "markdown",
   "id": "f68bc6c3",
   "metadata": {},
   "source": [
    "### 23 - Mostovi\n"
   ]
  },
  {
   "cell_type": "code",
   "execution_count": 32,
   "id": "8f007242",
   "metadata": {},
   "outputs": [
    {
     "data": {
      "text/plain": [
       "[]"
      ]
     },
     "execution_count": 32,
     "metadata": {},
     "output_type": "execute_result"
    }
   ],
   "source": [
    "allBridges = list(nx.bridges(snet_t))\n",
    "allBridgesCount = Counter(item for i in allBridges for item in i) \n",
    "allBridgesCount.most_common(5)"
   ]
  }
 ],
 "metadata": {
  "kernelspec": {
   "display_name": "Python 3 (ipykernel)",
   "language": "python",
   "name": "python3"
  },
  "language_info": {
   "codemirror_mode": {
    "name": "ipython",
    "version": 3
   },
   "file_extension": ".py",
   "mimetype": "text/x-python",
   "name": "python",
   "nbconvert_exporter": "python",
   "pygments_lexer": "ipython3",
   "version": "3.9.12"
  }
 },
 "nbformat": 4,
 "nbformat_minor": 5
}
